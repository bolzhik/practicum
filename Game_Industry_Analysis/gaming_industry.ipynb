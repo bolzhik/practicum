{
 "cells": [
  {
   "cell_type": "markdown",
   "id": "ac85cb50",
   "metadata": {
    "toc": true
   },
   "source": [
    "<h1>Table of Contents<span class=\"tocSkip\"></span></h1>\n",
    "<div class=\"toc\"><ul class=\"toc-item\"><li><span><a href=\"#Project-description\" data-toc-modified-id=\"Project-description-1\"><span class=\"toc-item-num\">1&nbsp;&nbsp;</span>Project description</a></span></li><li><span><a href=\"#Data-exploration\" data-toc-modified-id=\"Data-exploration-2\"><span class=\"toc-item-num\">2&nbsp;&nbsp;</span>Data exploration</a></span></li><li><span><a href=\"#Data-preparation\" data-toc-modified-id=\"Data-preparation-3\"><span class=\"toc-item-num\">3&nbsp;&nbsp;</span>Data preparation</a></span></li><li><span><a href=\"#Exploratory-data-analysis\" data-toc-modified-id=\"Exploratory-data-analysis-4\"><span class=\"toc-item-num\">4&nbsp;&nbsp;</span>Exploratory data analysis</a></span><ul class=\"toc-item\"><li><span><a href=\"#Number-of-released-games-by-year\" data-toc-modified-id=\"Number-of-released-games-by-year-4.1\"><span class=\"toc-item-num\">4.1&nbsp;&nbsp;</span>Number of released games by year</a></span></li><li><span><a href=\"#Game-sales-dynamics-by-platform\" data-toc-modified-id=\"Game-sales-dynamics-by-platform-4.2\"><span class=\"toc-item-num\">4.2&nbsp;&nbsp;</span>Game sales dynamics by platform</a></span></li><li><span><a href=\"#Game-sales-dynamics-for-the-period-of-interest\" data-toc-modified-id=\"Game-sales-dynamics-for-the-period-of-interest-4.3\"><span class=\"toc-item-num\">4.3&nbsp;&nbsp;</span>Game sales dynamics for the period of interest</a></span></li><li><span><a href=\"#Global-sales-information-by-platform\" data-toc-modified-id=\"Global-sales-information-by-platform-4.4\"><span class=\"toc-item-num\">4.4&nbsp;&nbsp;</span>Global sales information by platform</a></span></li><li><span><a href=\"#The-impact-of-user-and-critic-scores-on-sales\" data-toc-modified-id=\"The-impact-of-user-and-critic-scores-on-sales-4.5\"><span class=\"toc-item-num\">4.5&nbsp;&nbsp;</span>The impact of user and critic scores on sales</a></span><ul class=\"toc-item\"><li><span><a href=\"#Scatterplot-of-total-game-sales-versus-critic-and-user-scores\" data-toc-modified-id=\"Scatterplot-of-total-game-sales-versus-critic-and-user-scores-4.5.1\"><span class=\"toc-item-num\">4.5.1&nbsp;&nbsp;</span>Scatterplot of total game sales versus critic and user scores</a></span></li><li><span><a href=\"#Correlation-matrix\" data-toc-modified-id=\"Correlation-matrix-4.5.2\"><span class=\"toc-item-num\">4.5.2&nbsp;&nbsp;</span>Correlation matrix</a></span></li><li><span><a href=\"#Correlation-data-for-the-top-platforms\" data-toc-modified-id=\"Correlation-data-for-the-top-platforms-4.5.3\"><span class=\"toc-item-num\">4.5.3&nbsp;&nbsp;</span>Correlation data for the top platforms</a></span></li></ul></li><li><span><a href=\"#Distribution-of-games-by-genre\" data-toc-modified-id=\"Distribution-of-games-by-genre-4.6\"><span class=\"toc-item-num\">4.6&nbsp;&nbsp;</span>Distribution of games by genre</a></span></li></ul></li><li><span><a href=\"#User-portrait-of-each-region\" data-toc-modified-id=\"User-portrait-of-each-region-5\"><span class=\"toc-item-num\">5&nbsp;&nbsp;</span>User portrait of each region</a></span><ul class=\"toc-item\"><li><span><a href=\"#Top-5-platforms-in-the-region-of-interest\" data-toc-modified-id=\"Top-5-platforms-in-the-region-of-interest-5.1\"><span class=\"toc-item-num\">5.1&nbsp;&nbsp;</span>Top-5 platforms in the region of interest</a></span></li><li><span><a href=\"#Top-5-genres-in-the-region-of-interest\" data-toc-modified-id=\"Top-5-genres-in-the-region-of-interest-5.2\"><span class=\"toc-item-num\">5.2&nbsp;&nbsp;</span>Top-5 genres in the region of interest</a></span></li><li><span><a href=\"#The-impact-of-the-ESRB-rating-on-sales-in-each-regions\" data-toc-modified-id=\"The-impact-of-the-ESRB-rating-on-sales-in-each-regions-5.3\"><span class=\"toc-item-num\">5.3&nbsp;&nbsp;</span>The impact of the ESRB rating on sales in each regions</a></span></li></ul></li><li><span><a href=\"#Hypothesis-testing\" data-toc-modified-id=\"Hypothesis-testing-6\"><span class=\"toc-item-num\">6&nbsp;&nbsp;</span>Hypothesis testing</a></span><ul class=\"toc-item\"><li><span><a href=\"#Hypothesis-1\" data-toc-modified-id=\"Hypothesis-1-6.1\"><span class=\"toc-item-num\">6.1&nbsp;&nbsp;</span>Hypothesis 1</a></span><ul class=\"toc-item\"><li><span><a href=\"#Sampling\" data-toc-modified-id=\"Sampling-6.1.1\"><span class=\"toc-item-num\">6.1.1&nbsp;&nbsp;</span>Sampling</a></span></li><li><span><a href=\"#P-value-calculation\" data-toc-modified-id=\"P-value-calculation-6.1.2\"><span class=\"toc-item-num\">6.1.2&nbsp;&nbsp;</span>P-value calculation</a></span></li></ul></li><li><span><a href=\"#Hypothesis-2\" data-toc-modified-id=\"Hypothesis-2-6.2\"><span class=\"toc-item-num\">6.2&nbsp;&nbsp;</span>Hypothesis 2</a></span><ul class=\"toc-item\"><li><span><a href=\"#Sampling\" data-toc-modified-id=\"Sampling-6.2.1\"><span class=\"toc-item-num\">6.2.1&nbsp;&nbsp;</span>Sampling</a></span></li><li><span><a href=\"#P-value-calculation\" data-toc-modified-id=\"P-value-calculation-6.2.2\"><span class=\"toc-item-num\">6.2.2&nbsp;&nbsp;</span>P-value calculation</a></span></li></ul></li></ul></li><li><span><a href=\"#General-conclusion\" data-toc-modified-id=\"General-conclusion-7\"><span class=\"toc-item-num\">7&nbsp;&nbsp;</span>General conclusion</a></span></li></ul></div>"
   ]
  },
  {
   "cell_type": "markdown",
   "id": "6aa2c818",
   "metadata": {},
   "source": [
    "# Analysis of the gaming industry"
   ]
  },
  {
   "cell_type": "markdown",
   "id": "e4e40fae",
   "metadata": {},
   "source": [
    "## Project description\n",
    "\n",
    "Public sources contain information such as the historical data of game sales, scores of users and experts, genres, and platforms (e.g. Xbox or PlayStation). We can find out the features which determine a game's success. This will help to bet on a potentially popular product and plan an advertising campaign.\n",
    "\n",
    "We have the data until 2016. Imagine it's December of 2016 and we are planning the 2017 campaign.\n",
    "\n",
    "In the dataset, there is an abbreviation ESRB (Entertainment Software Rating Board) which is an association for determining the age group of computer games. ESRB evaluates game content and assigns a suitable age category, e.g. \"Adults Only 18+ (AO)\", \"Everyone (E)\", \"Teen (T)\", etc."
   ]
  },
  {
   "cell_type": "markdown",
   "id": "c559e8f9",
   "metadata": {},
   "source": [
    "<b>Data description</b>\n",
    "\n",
    "* `Name` — name of game\n",
    "* `Platform` — platform\n",
    "* `Year_of_Release` — year of release\n",
    "* `Genre` — genre of game\n",
    "* `NA_sales` — sales in North America (millions of copies sold)\n",
    "* `EU_sales` — sales in Europe (millions of copies sold)\n",
    "* `JP_sales` — sales in Japan (millions of copies sold)\n",
    "* `Other_sales` — sales in other countries (millions of copies sold)\n",
    "* `Critic_Score` — critic score (max 100)\n",
    "* `User_Score` — user score (max 100)\n",
    "* `Rating` — rating of ESRB (Entertainment Software Rating Board) which is an association for determining the age group of computer games.\n",
    "\n",
    "The data for 2016 may be incomplete."
   ]
  },
  {
   "cell_type": "markdown",
   "id": "98c8d643",
   "metadata": {},
   "source": [
    "## Data exploration"
   ]
  },
  {
   "cell_type": "code",
   "execution_count": 1,
   "id": "231ef3d0",
   "metadata": {},
   "outputs": [],
   "source": [
    "# import required libraries\n",
    "import pandas as pd\n",
    "import matplotlib.pyplot as plt\n",
    "import seaborn as sns\n",
    "import math\n",
    "import numpy as np\n",
    "from scipy import stats as st\n",
    "import os"
   ]
  },
  {
   "cell_type": "code",
   "execution_count": 2,
   "id": "9356a0dc",
   "metadata": {},
   "outputs": [],
   "source": [
    "# set fontsize\n",
    "plt.rcParams.update({'font.size': 14})"
   ]
  },
  {
   "cell_type": "code",
   "execution_count": 3,
   "id": "f53031f7",
   "metadata": {},
   "outputs": [],
   "source": [
    "# reading the file containing the data\n",
    "data = pd.read_csv('games.csv')"
   ]
  },
  {
   "cell_type": "code",
   "execution_count": 4,
   "id": "b32aa6b3",
   "metadata": {},
   "outputs": [
    {
     "name": "stdout",
     "output_type": "stream",
     "text": [
      "<class 'pandas.core.frame.DataFrame'>\n",
      "RangeIndex: 16715 entries, 0 to 16714\n",
      "Data columns (total 11 columns):\n",
      " #   Column           Non-Null Count  Dtype  \n",
      "---  ------           --------------  -----  \n",
      " 0   Name             16713 non-null  object \n",
      " 1   Platform         16715 non-null  object \n",
      " 2   Year_of_Release  16446 non-null  float64\n",
      " 3   Genre            16713 non-null  object \n",
      " 4   NA_sales         16715 non-null  float64\n",
      " 5   EU_sales         16715 non-null  float64\n",
      " 6   JP_sales         16715 non-null  float64\n",
      " 7   Other_sales      16715 non-null  float64\n",
      " 8   Critic_Score     8137 non-null   float64\n",
      " 9   User_Score       10014 non-null  object \n",
      " 10  Rating           9949 non-null   object \n",
      "dtypes: float64(6), object(5)\n",
      "memory usage: 1.4+ MB\n"
     ]
    }
   ],
   "source": [
    "# obtain general data information\n",
    "data.info()"
   ]
  },
  {
   "cell_type": "code",
   "execution_count": 5,
   "id": "3e070ed8",
   "metadata": {
    "scrolled": true
   },
   "outputs": [
    {
     "data": {
      "text/html": [
       "<div>\n",
       "<style scoped>\n",
       "    .dataframe tbody tr th:only-of-type {\n",
       "        vertical-align: middle;\n",
       "    }\n",
       "\n",
       "    .dataframe tbody tr th {\n",
       "        vertical-align: top;\n",
       "    }\n",
       "\n",
       "    .dataframe thead th {\n",
       "        text-align: right;\n",
       "    }\n",
       "</style>\n",
       "<table border=\"1\" class=\"dataframe\">\n",
       "  <thead>\n",
       "    <tr style=\"text-align: right;\">\n",
       "      <th></th>\n",
       "      <th>Name</th>\n",
       "      <th>Platform</th>\n",
       "      <th>Year_of_Release</th>\n",
       "      <th>Genre</th>\n",
       "      <th>NA_sales</th>\n",
       "      <th>EU_sales</th>\n",
       "      <th>JP_sales</th>\n",
       "      <th>Other_sales</th>\n",
       "      <th>Critic_Score</th>\n",
       "      <th>User_Score</th>\n",
       "      <th>Rating</th>\n",
       "    </tr>\n",
       "  </thead>\n",
       "  <tbody>\n",
       "    <tr>\n",
       "      <th>0</th>\n",
       "      <td>Wii Sports</td>\n",
       "      <td>Wii</td>\n",
       "      <td>2006.0</td>\n",
       "      <td>Sports</td>\n",
       "      <td>41.36</td>\n",
       "      <td>28.96</td>\n",
       "      <td>3.77</td>\n",
       "      <td>8.45</td>\n",
       "      <td>76.0</td>\n",
       "      <td>8</td>\n",
       "      <td>E</td>\n",
       "    </tr>\n",
       "    <tr>\n",
       "      <th>1</th>\n",
       "      <td>Super Mario Bros.</td>\n",
       "      <td>NES</td>\n",
       "      <td>1985.0</td>\n",
       "      <td>Platform</td>\n",
       "      <td>29.08</td>\n",
       "      <td>3.58</td>\n",
       "      <td>6.81</td>\n",
       "      <td>0.77</td>\n",
       "      <td>NaN</td>\n",
       "      <td>NaN</td>\n",
       "      <td>NaN</td>\n",
       "    </tr>\n",
       "    <tr>\n",
       "      <th>2</th>\n",
       "      <td>Mario Kart Wii</td>\n",
       "      <td>Wii</td>\n",
       "      <td>2008.0</td>\n",
       "      <td>Racing</td>\n",
       "      <td>15.68</td>\n",
       "      <td>12.76</td>\n",
       "      <td>3.79</td>\n",
       "      <td>3.29</td>\n",
       "      <td>82.0</td>\n",
       "      <td>8.3</td>\n",
       "      <td>E</td>\n",
       "    </tr>\n",
       "    <tr>\n",
       "      <th>3</th>\n",
       "      <td>Wii Sports Resort</td>\n",
       "      <td>Wii</td>\n",
       "      <td>2009.0</td>\n",
       "      <td>Sports</td>\n",
       "      <td>15.61</td>\n",
       "      <td>10.93</td>\n",
       "      <td>3.28</td>\n",
       "      <td>2.95</td>\n",
       "      <td>80.0</td>\n",
       "      <td>8</td>\n",
       "      <td>E</td>\n",
       "    </tr>\n",
       "    <tr>\n",
       "      <th>4</th>\n",
       "      <td>Pokemon Red/Pokemon Blue</td>\n",
       "      <td>GB</td>\n",
       "      <td>1996.0</td>\n",
       "      <td>Role-Playing</td>\n",
       "      <td>11.27</td>\n",
       "      <td>8.89</td>\n",
       "      <td>10.22</td>\n",
       "      <td>1.00</td>\n",
       "      <td>NaN</td>\n",
       "      <td>NaN</td>\n",
       "      <td>NaN</td>\n",
       "    </tr>\n",
       "  </tbody>\n",
       "</table>\n",
       "</div>"
      ],
      "text/plain": [
       "                       Name Platform  Year_of_Release         Genre  NA_sales  \\\n",
       "0                Wii Sports      Wii           2006.0        Sports     41.36   \n",
       "1         Super Mario Bros.      NES           1985.0      Platform     29.08   \n",
       "2            Mario Kart Wii      Wii           2008.0        Racing     15.68   \n",
       "3         Wii Sports Resort      Wii           2009.0        Sports     15.61   \n",
       "4  Pokemon Red/Pokemon Blue       GB           1996.0  Role-Playing     11.27   \n",
       "\n",
       "   EU_sales  JP_sales  Other_sales  Critic_Score User_Score Rating  \n",
       "0     28.96      3.77         8.45          76.0          8      E  \n",
       "1      3.58      6.81         0.77           NaN        NaN    NaN  \n",
       "2     12.76      3.79         3.29          82.0        8.3      E  \n",
       "3     10.93      3.28         2.95          80.0          8      E  \n",
       "4      8.89     10.22         1.00           NaN        NaN    NaN  "
      ]
     },
     "execution_count": 5,
     "metadata": {},
     "output_type": "execute_result"
    }
   ],
   "source": [
    "# return the first 5 rows\n",
    "data.head()"
   ]
  },
  {
   "cell_type": "code",
   "execution_count": 6,
   "id": "3e83ea65",
   "metadata": {},
   "outputs": [
    {
     "data": {
      "text/plain": [
       "Name                  2\n",
       "Platform              0\n",
       "Year_of_Release     269\n",
       "Genre                 2\n",
       "NA_sales              0\n",
       "EU_sales              0\n",
       "JP_sales              0\n",
       "Other_sales           0\n",
       "Critic_Score       8578\n",
       "User_Score         6701\n",
       "Rating             6766\n",
       "dtype: int64"
      ]
     },
     "execution_count": 6,
     "metadata": {},
     "output_type": "execute_result"
    }
   ],
   "source": [
    "# counting missing values\n",
    "data.isna().sum()"
   ]
  },
  {
   "cell_type": "code",
   "execution_count": 7,
   "id": "1acee297",
   "metadata": {},
   "outputs": [
    {
     "data": {
      "text/plain": [
       "Name                0.011965\n",
       "Platform            0.000000\n",
       "Year_of_Release     1.609333\n",
       "Genre               0.011965\n",
       "NA_sales            0.000000\n",
       "EU_sales            0.000000\n",
       "JP_sales            0.000000\n",
       "Other_sales         0.000000\n",
       "Critic_Score       51.319174\n",
       "User_Score         40.089740\n",
       "Rating             40.478612\n",
       "dtype: float64"
      ]
     },
     "execution_count": 7,
     "metadata": {},
     "output_type": "execute_result"
    }
   ],
   "source": [
    "# return percentage of missing values\n",
    "data.isna().mean()*100"
   ]
  },
  {
   "cell_type": "markdown",
   "id": "b5466d4c",
   "metadata": {},
   "source": [
    "Need to change the data types of the following columns:\n",
    "\n",
    "* `Year_of_Release` to int64\n",
    "* `User_Score` to float64 \n",
    "\n",
    "There are missing values in the columns `Name`, `Year_of_Release`, `Genre`, and almost half of the data is missing in `Critic_Score`, `User_Score`, `Rating`.\n",
    "\n",
    "* `Critic_Score`: it would be incorrect to fill in with the mean or median even if they were calculated for each genre separately. Nevertheless, let's fill in with a dummy value of -1 to be able to filter and process the data quickly;\n",
    "\n",
    "* `User_Score`: probably there are missing values because of the absence of services that collected players' ratings. Let's fill in with the dummy value as in `Critic_Score`;\n",
    "\n",
    "* `Rating`: probably the ratings are missing for some games because there was no such organization when they were released. Let's fill in with the \"unknown\" value;\n",
    "\n",
    "* `Year_of_Release`: the same as previous columns, let's fill in with a dummy value of 9999;\n",
    "\n",
    "* `Name`, `Genre`: only a few missing values, so we can delete them."
   ]
  },
  {
   "cell_type": "markdown",
   "id": "7585dc65",
   "metadata": {},
   "source": [
    "## Data preparation"
   ]
  },
  {
   "cell_type": "code",
   "execution_count": 8,
   "id": "8825a29b",
   "metadata": {
    "scrolled": true
   },
   "outputs": [
    {
     "data": {
      "text/plain": [
       "Index(['name', 'platform', 'year_of_release', 'genre', 'na_sales', 'eu_sales',\n",
       "       'jp_sales', 'other_sales', 'critic_score', 'user_score', 'rating'],\n",
       "      dtype='object')"
      ]
     },
     "execution_count": 8,
     "metadata": {},
     "output_type": "execute_result"
    }
   ],
   "source": [
    "# convert column names to lowercase\n",
    "data.columns = data.columns.str.lower()\n",
    "data.columns"
   ]
  },
  {
   "cell_type": "code",
   "execution_count": 9,
   "id": "eb0dfb3c",
   "metadata": {},
   "outputs": [
    {
     "data": {
      "text/plain": [
       "array([1980., 1981., 1982., 1983., 1984., 1985., 1986., 1987., 1988.,\n",
       "       1989., 1990., 1991., 1992., 1993., 1994., 1995., 1996., 1997.,\n",
       "       1998., 1999., 2000., 2001., 2002., 2003., 2004., 2005., 2006.,\n",
       "       2007., 2008., 2009., 2010., 2011., 2012., 2013., 2014., 2015.,\n",
       "       2016.,   nan])"
      ]
     },
     "execution_count": 9,
     "metadata": {},
     "output_type": "execute_result"
    }
   ],
   "source": [
    "# let's see what unique values are in the column\n",
    "data['year_of_release'].sort_values().unique()"
   ]
  },
  {
   "cell_type": "code",
   "execution_count": 10,
   "id": "abe4a40f",
   "metadata": {},
   "outputs": [],
   "source": [
    "# fill in with a dummy value and change the data type of the column\n",
    "data['year_of_release'] = data['year_of_release'].fillna(9999)\n",
    "data['year_of_release'] = data['year_of_release'].astype('int64')"
   ]
  },
  {
   "cell_type": "code",
   "execution_count": 11,
   "id": "7b9add8e",
   "metadata": {},
   "outputs": [
    {
     "name": "stdout",
     "output_type": "stream",
     "text": [
      "<class 'pandas.core.frame.DataFrame'>\n",
      "RangeIndex: 16715 entries, 0 to 16714\n",
      "Data columns (total 11 columns):\n",
      " #   Column           Non-Null Count  Dtype  \n",
      "---  ------           --------------  -----  \n",
      " 0   name             16713 non-null  object \n",
      " 1   platform         16715 non-null  object \n",
      " 2   year_of_release  16715 non-null  int64  \n",
      " 3   genre            16713 non-null  object \n",
      " 4   na_sales         16715 non-null  float64\n",
      " 5   eu_sales         16715 non-null  float64\n",
      " 6   jp_sales         16715 non-null  float64\n",
      " 7   other_sales      16715 non-null  float64\n",
      " 8   critic_score     8137 non-null   float64\n",
      " 9   user_score       10014 non-null  object \n",
      " 10  rating           9949 non-null   object \n",
      "dtypes: float64(5), int64(1), object(5)\n",
      "memory usage: 1.4+ MB\n"
     ]
    }
   ],
   "source": [
    "# obtain general data information\n",
    "data.info()"
   ]
  },
  {
   "cell_type": "code",
   "execution_count": 12,
   "id": "5965104c",
   "metadata": {
    "scrolled": false
   },
   "outputs": [
    {
     "data": {
      "text/plain": [
       "array(['0', '0.2', '0.3', '0.5', '0.6', '0.7', '0.9', '1', '1.1', '1.2',\n",
       "       '1.3', '1.4', '1.5', '1.6', '1.7', '1.8', '1.9', '2', '2.1', '2.2',\n",
       "       '2.3', '2.4', '2.5', '2.6', '2.7', '2.8', '2.9', '3', '3.1', '3.2',\n",
       "       '3.3', '3.4', '3.5', '3.6', '3.7', '3.8', '3.9', '4', '4.1', '4.2',\n",
       "       '4.3', '4.4', '4.5', '4.6', '4.7', '4.8', '4.9', '5', '5.1', '5.2',\n",
       "       '5.3', '5.4', '5.5', '5.6', '5.7', '5.8', '5.9', '6', '6.1', '6.2',\n",
       "       '6.3', '6.4', '6.5', '6.6', '6.7', '6.8', '6.9', '7', '7.1', '7.2',\n",
       "       '7.3', '7.4', '7.5', '7.6', '7.7', '7.8', '7.9', '8', '8.1', '8.2',\n",
       "       '8.3', '8.4', '8.5', '8.6', '8.7', '8.8', '8.9', '9', '9.1', '9.2',\n",
       "       '9.3', '9.4', '9.5', '9.6', '9.7', 'tbd', nan], dtype=object)"
      ]
     },
     "execution_count": 12,
     "metadata": {},
     "output_type": "execute_result"
    }
   ],
   "source": [
    "# let's see what unique values are in the column\n",
    "data['user_score'].sort_values().unique()"
   ]
  },
  {
   "cell_type": "code",
   "execution_count": 13,
   "id": "e02bec76",
   "metadata": {},
   "outputs": [
    {
     "data": {
      "text/plain": [
       "2424"
      ]
     },
     "execution_count": 13,
     "metadata": {},
     "output_type": "execute_result"
    }
   ],
   "source": [
    "# calculate how many tbd values are there\n",
    "data[data['user_score']=='tbd']['user_score'].count()"
   ]
  },
  {
   "cell_type": "markdown",
   "id": "5e50cfec",
   "metadata": {},
   "source": [
    "tbd - to be determined, let's change them to a dummy value"
   ]
  },
  {
   "cell_type": "code",
   "execution_count": 14,
   "id": "e2d901a1",
   "metadata": {},
   "outputs": [
    {
     "data": {
      "text/plain": [
       "array([-1. ,  0. ,  0.2,  0.3,  0.5,  0.6,  0.7,  0.9,  1. ,  1.1,  1.2,\n",
       "        1.3,  1.4,  1.5,  1.6,  1.7,  1.8,  1.9,  2. ,  2.1,  2.2,  2.3,\n",
       "        2.4,  2.5,  2.6,  2.7,  2.8,  2.9,  3. ,  3.1,  3.2,  3.3,  3.4,\n",
       "        3.5,  3.6,  3.7,  3.8,  3.9,  4. ,  4.1,  4.2,  4.3,  4.4,  4.5,\n",
       "        4.6,  4.7,  4.8,  4.9,  5. ,  5.1,  5.2,  5.3,  5.4,  5.5,  5.6,\n",
       "        5.7,  5.8,  5.9,  6. ,  6.1,  6.2,  6.3,  6.4,  6.5,  6.6,  6.7,\n",
       "        6.8,  6.9,  7. ,  7.1,  7.2,  7.3,  7.4,  7.5,  7.6,  7.7,  7.8,\n",
       "        7.9,  8. ,  8.1,  8.2,  8.3,  8.4,  8.5,  8.6,  8.7,  8.8,  8.9,\n",
       "        9. ,  9.1,  9.2,  9.3,  9.4,  9.5,  9.6,  9.7])"
      ]
     },
     "execution_count": 14,
     "metadata": {},
     "output_type": "execute_result"
    }
   ],
   "source": [
    "# change tbd values and missing values to -1\n",
    "data.loc[data['user_score']=='tbd','user_score'] = '-1.0'\n",
    "data['user_score'] = data['user_score'].fillna(-1.0)\n",
    "# change the data type of column\n",
    "data['user_score'] = data['user_score'].astype('float64')\n",
    "data['user_score'].sort_values().unique()"
   ]
  },
  {
   "cell_type": "code",
   "execution_count": 15,
   "id": "05e20a74",
   "metadata": {
    "scrolled": true
   },
   "outputs": [
    {
     "name": "stdout",
     "output_type": "stream",
     "text": [
      "<class 'pandas.core.frame.DataFrame'>\n",
      "RangeIndex: 16715 entries, 0 to 16714\n",
      "Data columns (total 11 columns):\n",
      " #   Column           Non-Null Count  Dtype  \n",
      "---  ------           --------------  -----  \n",
      " 0   name             16713 non-null  object \n",
      " 1   platform         16715 non-null  object \n",
      " 2   year_of_release  16715 non-null  int64  \n",
      " 3   genre            16713 non-null  object \n",
      " 4   na_sales         16715 non-null  float64\n",
      " 5   eu_sales         16715 non-null  float64\n",
      " 6   jp_sales         16715 non-null  float64\n",
      " 7   other_sales      16715 non-null  float64\n",
      " 8   critic_score     8137 non-null   float64\n",
      " 9   user_score       16715 non-null  float64\n",
      " 10  rating           9949 non-null   object \n",
      "dtypes: float64(6), int64(1), object(4)\n",
      "memory usage: 1.4+ MB\n"
     ]
    }
   ],
   "source": [
    "data.info()"
   ]
  },
  {
   "cell_type": "code",
   "execution_count": 16,
   "id": "a9c0bd52",
   "metadata": {},
   "outputs": [
    {
     "data": {
      "text/plain": [
       "array([2006, 1985, 2008, 2009, 1996, 1989, 1984, 2005, 1999, 2007, 2010,\n",
       "       2013, 2004, 1990, 1988, 2002, 2001, 2011, 1998, 2015, 2012, 2014,\n",
       "       1992, 1997, 1993, 1994, 1982, 2016, 2003, 1986, 2000, 9999, 1995,\n",
       "       1991, 1981, 1987, 1980, 1983], dtype=int64)"
      ]
     },
     "execution_count": 16,
     "metadata": {},
     "output_type": "execute_result"
    }
   ],
   "source": [
    "# let's see what unique values are in the column\n",
    "data['year_of_release'].unique()"
   ]
  },
  {
   "cell_type": "code",
   "execution_count": 17,
   "id": "bfa309a9",
   "metadata": {},
   "outputs": [
    {
     "data": {
      "text/plain": [
       "array(['AO', 'E', 'E10+', 'EC', 'K-A', 'M', 'RP', 'T', nan], dtype=object)"
      ]
     },
     "execution_count": 17,
     "metadata": {},
     "output_type": "execute_result"
    }
   ],
   "source": [
    "# let's see what unique values are in the column\n",
    "data['rating'].sort_values().unique()"
   ]
  },
  {
   "cell_type": "markdown",
   "id": "ff42f16f",
   "metadata": {},
   "source": [
    "Age rating guide is from the official site https://www.esrb.org/ratings-guide/\n",
    "\n",
    "* `E` - for all ages\n",
    "* `E10+` - for ages 10 and over\n",
    "* `T` - for ages 13 and over\n",
    "* `M` - for ages 17 and over\n",
    "* `AO` - for ages 18 and over\n",
    "* `RP` - rating pending, which have not yet been assigned a final rating by the ESRB\n",
    "\n",
    "Other ratings are outdated:\n",
    "\n",
    "* `K-A` - for all ages (used until 1998)\n",
    "* `EC` - for preschool audience (used until 2018)"
   ]
  },
  {
   "cell_type": "code",
   "execution_count": 18,
   "id": "ac6d1d22",
   "metadata": {},
   "outputs": [],
   "source": [
    "# fill in the missing values with 'unknown'\n",
    "data['rating'] = data['rating'].fillna('unknown')"
   ]
  },
  {
   "cell_type": "code",
   "execution_count": 19,
   "id": "23db6ae4",
   "metadata": {
    "scrolled": true
   },
   "outputs": [
    {
     "data": {
      "text/plain": [
       "unknown    6766\n",
       "E          3990\n",
       "T          2961\n",
       "M          1563\n",
       "E10+       1420\n",
       "EC            8\n",
       "RP            3\n",
       "K-A           3\n",
       "AO            1\n",
       "Name: rating, dtype: int64"
      ]
     },
     "execution_count": 19,
     "metadata": {},
     "output_type": "execute_result"
    }
   ],
   "source": [
    "# distribution of values\n",
    "data['rating'].value_counts()"
   ]
  },
  {
   "cell_type": "markdown",
   "id": "86eb0de1",
   "metadata": {},
   "source": [
    "Let's change `EC`, `K-A` to `E` for all ages. `RP` and `AO` remain the same."
   ]
  },
  {
   "cell_type": "code",
   "execution_count": 20,
   "id": "cf4d2fb3",
   "metadata": {},
   "outputs": [],
   "source": [
    "data['rating'] = data['rating'].replace('EC', 'E')\n",
    "data['rating'] = data['rating'].replace('K-A', 'E')"
   ]
  },
  {
   "cell_type": "code",
   "execution_count": 21,
   "id": "72bf5c3a",
   "metadata": {
    "scrolled": true
   },
   "outputs": [
    {
     "data": {
      "text/plain": [
       "array([13., 17., 19., 20., 21., 22., 23., 24., 25., 26., 27., 28., 29.,\n",
       "       30., 31., 32., 33., 34., 35., 36., 37., 38., 39., 40., 41., 42.,\n",
       "       43., 44., 45., 46., 47., 48., 49., 50., 51., 52., 53., 54., 55.,\n",
       "       56., 57., 58., 59., 60., 61., 62., 63., 64., 65., 66., 67., 68.,\n",
       "       69., 70., 71., 72., 73., 74., 75., 76., 77., 78., 79., 80., 81.,\n",
       "       82., 83., 84., 85., 86., 87., 88., 89., 90., 91., 92., 93., 94.,\n",
       "       95., 96., 97., 98., nan])"
      ]
     },
     "execution_count": 21,
     "metadata": {},
     "output_type": "execute_result"
    }
   ],
   "source": [
    "# let's see what unique values are in the column\n",
    "data['critic_score'].sort_values().unique()"
   ]
  },
  {
   "cell_type": "code",
   "execution_count": 22,
   "id": "37745106",
   "metadata": {},
   "outputs": [],
   "source": [
    "# fill in the missing values with a dummy\n",
    "data['critic_score'] = data['critic_score'].fillna(-1.0)"
   ]
  },
  {
   "cell_type": "markdown",
   "id": "f2660547",
   "metadata": {},
   "source": [
    "Now we have the missing values only in the names and genres of games."
   ]
  },
  {
   "cell_type": "code",
   "execution_count": 23,
   "id": "440c37b7",
   "metadata": {},
   "outputs": [
    {
     "data": {
      "text/html": [
       "<div>\n",
       "<style scoped>\n",
       "    .dataframe tbody tr th:only-of-type {\n",
       "        vertical-align: middle;\n",
       "    }\n",
       "\n",
       "    .dataframe tbody tr th {\n",
       "        vertical-align: top;\n",
       "    }\n",
       "\n",
       "    .dataframe thead th {\n",
       "        text-align: right;\n",
       "    }\n",
       "</style>\n",
       "<table border=\"1\" class=\"dataframe\">\n",
       "  <thead>\n",
       "    <tr style=\"text-align: right;\">\n",
       "      <th></th>\n",
       "      <th>name</th>\n",
       "      <th>platform</th>\n",
       "      <th>year_of_release</th>\n",
       "      <th>genre</th>\n",
       "      <th>na_sales</th>\n",
       "      <th>eu_sales</th>\n",
       "      <th>jp_sales</th>\n",
       "      <th>other_sales</th>\n",
       "      <th>critic_score</th>\n",
       "      <th>user_score</th>\n",
       "      <th>rating</th>\n",
       "    </tr>\n",
       "  </thead>\n",
       "  <tbody>\n",
       "    <tr>\n",
       "      <th>659</th>\n",
       "      <td>NaN</td>\n",
       "      <td>GEN</td>\n",
       "      <td>1993</td>\n",
       "      <td>NaN</td>\n",
       "      <td>1.78</td>\n",
       "      <td>0.53</td>\n",
       "      <td>0.00</td>\n",
       "      <td>0.08</td>\n",
       "      <td>-1.0</td>\n",
       "      <td>-1.0</td>\n",
       "      <td>unknown</td>\n",
       "    </tr>\n",
       "    <tr>\n",
       "      <th>14244</th>\n",
       "      <td>NaN</td>\n",
       "      <td>GEN</td>\n",
       "      <td>1993</td>\n",
       "      <td>NaN</td>\n",
       "      <td>0.00</td>\n",
       "      <td>0.00</td>\n",
       "      <td>0.03</td>\n",
       "      <td>0.00</td>\n",
       "      <td>-1.0</td>\n",
       "      <td>-1.0</td>\n",
       "      <td>unknown</td>\n",
       "    </tr>\n",
       "  </tbody>\n",
       "</table>\n",
       "</div>"
      ],
      "text/plain": [
       "      name platform  year_of_release genre  na_sales  eu_sales  jp_sales  \\\n",
       "659    NaN      GEN             1993   NaN      1.78      0.53      0.00   \n",
       "14244  NaN      GEN             1993   NaN      0.00      0.00      0.03   \n",
       "\n",
       "       other_sales  critic_score  user_score   rating  \n",
       "659           0.08          -1.0        -1.0  unknown  \n",
       "14244         0.00          -1.0        -1.0  unknown  "
      ]
     },
     "execution_count": 23,
     "metadata": {},
     "output_type": "execute_result"
    }
   ],
   "source": [
    "# look at the missing values in name\n",
    "data[data['name'].isna()==True]"
   ]
  },
  {
   "cell_type": "markdown",
   "id": "8a18cbf2",
   "metadata": {},
   "source": [
    "There are missing values in almost all columns in rows above: `name`, `genre`, `critic_score`, `user_score` and `rating`. Let's just delete these rows."
   ]
  },
  {
   "cell_type": "code",
   "execution_count": 24,
   "id": "5f6b3f73",
   "metadata": {},
   "outputs": [],
   "source": [
    "# delete rows with missing values in name column\n",
    "data.dropna(subset = ['name'], inplace=True)"
   ]
  },
  {
   "cell_type": "code",
   "execution_count": 25,
   "id": "b00ab64a",
   "metadata": {
    "scrolled": true
   },
   "outputs": [
    {
     "name": "stdout",
     "output_type": "stream",
     "text": [
      "<class 'pandas.core.frame.DataFrame'>\n",
      "Int64Index: 16713 entries, 0 to 16714\n",
      "Data columns (total 11 columns):\n",
      " #   Column           Non-Null Count  Dtype  \n",
      "---  ------           --------------  -----  \n",
      " 0   name             16713 non-null  object \n",
      " 1   platform         16713 non-null  object \n",
      " 2   year_of_release  16713 non-null  int64  \n",
      " 3   genre            16713 non-null  object \n",
      " 4   na_sales         16713 non-null  float64\n",
      " 5   eu_sales         16713 non-null  float64\n",
      " 6   jp_sales         16713 non-null  float64\n",
      " 7   other_sales      16713 non-null  float64\n",
      " 8   critic_score     16713 non-null  float64\n",
      " 9   user_score       16713 non-null  float64\n",
      " 10  rating           16713 non-null  object \n",
      "dtypes: float64(6), int64(1), object(4)\n",
      "memory usage: 1.5+ MB\n"
     ]
    }
   ],
   "source": [
    "data.info()"
   ]
  },
  {
   "cell_type": "markdown",
   "id": "c0c2dc16",
   "metadata": {},
   "source": [
    "Let's calculate total sales in all regions and save them into new column `total_sales`"
   ]
  },
  {
   "cell_type": "code",
   "execution_count": 26,
   "id": "a18f7026",
   "metadata": {
    "scrolled": true
   },
   "outputs": [
    {
     "data": {
      "text/html": [
       "<div>\n",
       "<style scoped>\n",
       "    .dataframe tbody tr th:only-of-type {\n",
       "        vertical-align: middle;\n",
       "    }\n",
       "\n",
       "    .dataframe tbody tr th {\n",
       "        vertical-align: top;\n",
       "    }\n",
       "\n",
       "    .dataframe thead th {\n",
       "        text-align: right;\n",
       "    }\n",
       "</style>\n",
       "<table border=\"1\" class=\"dataframe\">\n",
       "  <thead>\n",
       "    <tr style=\"text-align: right;\">\n",
       "      <th></th>\n",
       "      <th>name</th>\n",
       "      <th>platform</th>\n",
       "      <th>year_of_release</th>\n",
       "      <th>genre</th>\n",
       "      <th>na_sales</th>\n",
       "      <th>eu_sales</th>\n",
       "      <th>jp_sales</th>\n",
       "      <th>other_sales</th>\n",
       "      <th>critic_score</th>\n",
       "      <th>user_score</th>\n",
       "      <th>rating</th>\n",
       "      <th>total_sales</th>\n",
       "    </tr>\n",
       "  </thead>\n",
       "  <tbody>\n",
       "    <tr>\n",
       "      <th>0</th>\n",
       "      <td>Wii Sports</td>\n",
       "      <td>Wii</td>\n",
       "      <td>2006</td>\n",
       "      <td>Sports</td>\n",
       "      <td>41.36</td>\n",
       "      <td>28.96</td>\n",
       "      <td>3.77</td>\n",
       "      <td>8.45</td>\n",
       "      <td>76.0</td>\n",
       "      <td>8.0</td>\n",
       "      <td>E</td>\n",
       "      <td>82.54</td>\n",
       "    </tr>\n",
       "    <tr>\n",
       "      <th>1</th>\n",
       "      <td>Super Mario Bros.</td>\n",
       "      <td>NES</td>\n",
       "      <td>1985</td>\n",
       "      <td>Platform</td>\n",
       "      <td>29.08</td>\n",
       "      <td>3.58</td>\n",
       "      <td>6.81</td>\n",
       "      <td>0.77</td>\n",
       "      <td>-1.0</td>\n",
       "      <td>-1.0</td>\n",
       "      <td>unknown</td>\n",
       "      <td>40.24</td>\n",
       "    </tr>\n",
       "    <tr>\n",
       "      <th>2</th>\n",
       "      <td>Mario Kart Wii</td>\n",
       "      <td>Wii</td>\n",
       "      <td>2008</td>\n",
       "      <td>Racing</td>\n",
       "      <td>15.68</td>\n",
       "      <td>12.76</td>\n",
       "      <td>3.79</td>\n",
       "      <td>3.29</td>\n",
       "      <td>82.0</td>\n",
       "      <td>8.3</td>\n",
       "      <td>E</td>\n",
       "      <td>35.52</td>\n",
       "    </tr>\n",
       "    <tr>\n",
       "      <th>3</th>\n",
       "      <td>Wii Sports Resort</td>\n",
       "      <td>Wii</td>\n",
       "      <td>2009</td>\n",
       "      <td>Sports</td>\n",
       "      <td>15.61</td>\n",
       "      <td>10.93</td>\n",
       "      <td>3.28</td>\n",
       "      <td>2.95</td>\n",
       "      <td>80.0</td>\n",
       "      <td>8.0</td>\n",
       "      <td>E</td>\n",
       "      <td>32.77</td>\n",
       "    </tr>\n",
       "    <tr>\n",
       "      <th>4</th>\n",
       "      <td>Pokemon Red/Pokemon Blue</td>\n",
       "      <td>GB</td>\n",
       "      <td>1996</td>\n",
       "      <td>Role-Playing</td>\n",
       "      <td>11.27</td>\n",
       "      <td>8.89</td>\n",
       "      <td>10.22</td>\n",
       "      <td>1.00</td>\n",
       "      <td>-1.0</td>\n",
       "      <td>-1.0</td>\n",
       "      <td>unknown</td>\n",
       "      <td>31.38</td>\n",
       "    </tr>\n",
       "  </tbody>\n",
       "</table>\n",
       "</div>"
      ],
      "text/plain": [
       "                       name platform  year_of_release         genre  na_sales  \\\n",
       "0                Wii Sports      Wii             2006        Sports     41.36   \n",
       "1         Super Mario Bros.      NES             1985      Platform     29.08   \n",
       "2            Mario Kart Wii      Wii             2008        Racing     15.68   \n",
       "3         Wii Sports Resort      Wii             2009        Sports     15.61   \n",
       "4  Pokemon Red/Pokemon Blue       GB             1996  Role-Playing     11.27   \n",
       "\n",
       "   eu_sales  jp_sales  other_sales  critic_score  user_score   rating  \\\n",
       "0     28.96      3.77         8.45          76.0         8.0        E   \n",
       "1      3.58      6.81         0.77          -1.0        -1.0  unknown   \n",
       "2     12.76      3.79         3.29          82.0         8.3        E   \n",
       "3     10.93      3.28         2.95          80.0         8.0        E   \n",
       "4      8.89     10.22         1.00          -1.0        -1.0  unknown   \n",
       "\n",
       "   total_sales  \n",
       "0        82.54  \n",
       "1        40.24  \n",
       "2        35.52  \n",
       "3        32.77  \n",
       "4        31.38  "
      ]
     },
     "execution_count": 26,
     "metadata": {},
     "output_type": "execute_result"
    }
   ],
   "source": [
    "data['total_sales'] = data[['na_sales','eu_sales','jp_sales','other_sales']].sum(axis = 1)\n",
    "data.head()"
   ]
  },
  {
   "cell_type": "code",
   "execution_count": 27,
   "id": "d417dbdb",
   "metadata": {
    "scrolled": true
   },
   "outputs": [
    {
     "data": {
      "text/html": [
       "<div>\n",
       "<style scoped>\n",
       "    .dataframe tbody tr th:only-of-type {\n",
       "        vertical-align: middle;\n",
       "    }\n",
       "\n",
       "    .dataframe tbody tr th {\n",
       "        vertical-align: top;\n",
       "    }\n",
       "\n",
       "    .dataframe thead th {\n",
       "        text-align: right;\n",
       "    }\n",
       "</style>\n",
       "<table border=\"1\" class=\"dataframe\">\n",
       "  <thead>\n",
       "    <tr style=\"text-align: right;\">\n",
       "      <th></th>\n",
       "      <th>name</th>\n",
       "      <th>platform</th>\n",
       "      <th>year_of_release</th>\n",
       "      <th>genre</th>\n",
       "      <th>na_sales</th>\n",
       "      <th>eu_sales</th>\n",
       "      <th>jp_sales</th>\n",
       "      <th>other_sales</th>\n",
       "      <th>critic_score</th>\n",
       "      <th>user_score</th>\n",
       "      <th>rating</th>\n",
       "      <th>total_sales</th>\n",
       "    </tr>\n",
       "  </thead>\n",
       "  <tbody>\n",
       "    <tr>\n",
       "      <th>0</th>\n",
       "      <td>wii sports</td>\n",
       "      <td>wii</td>\n",
       "      <td>2006</td>\n",
       "      <td>sports</td>\n",
       "      <td>41.36</td>\n",
       "      <td>28.96</td>\n",
       "      <td>3.77</td>\n",
       "      <td>8.45</td>\n",
       "      <td>76.0</td>\n",
       "      <td>8.0</td>\n",
       "      <td>E</td>\n",
       "      <td>82.54</td>\n",
       "    </tr>\n",
       "    <tr>\n",
       "      <th>1</th>\n",
       "      <td>super mario bros.</td>\n",
       "      <td>nes</td>\n",
       "      <td>1985</td>\n",
       "      <td>platform</td>\n",
       "      <td>29.08</td>\n",
       "      <td>3.58</td>\n",
       "      <td>6.81</td>\n",
       "      <td>0.77</td>\n",
       "      <td>-1.0</td>\n",
       "      <td>-1.0</td>\n",
       "      <td>unknown</td>\n",
       "      <td>40.24</td>\n",
       "    </tr>\n",
       "    <tr>\n",
       "      <th>2</th>\n",
       "      <td>mario kart wii</td>\n",
       "      <td>wii</td>\n",
       "      <td>2008</td>\n",
       "      <td>racing</td>\n",
       "      <td>15.68</td>\n",
       "      <td>12.76</td>\n",
       "      <td>3.79</td>\n",
       "      <td>3.29</td>\n",
       "      <td>82.0</td>\n",
       "      <td>8.3</td>\n",
       "      <td>E</td>\n",
       "      <td>35.52</td>\n",
       "    </tr>\n",
       "    <tr>\n",
       "      <th>3</th>\n",
       "      <td>wii sports resort</td>\n",
       "      <td>wii</td>\n",
       "      <td>2009</td>\n",
       "      <td>sports</td>\n",
       "      <td>15.61</td>\n",
       "      <td>10.93</td>\n",
       "      <td>3.28</td>\n",
       "      <td>2.95</td>\n",
       "      <td>80.0</td>\n",
       "      <td>8.0</td>\n",
       "      <td>E</td>\n",
       "      <td>32.77</td>\n",
       "    </tr>\n",
       "    <tr>\n",
       "      <th>4</th>\n",
       "      <td>pokemon red/pokemon blue</td>\n",
       "      <td>gb</td>\n",
       "      <td>1996</td>\n",
       "      <td>role-playing</td>\n",
       "      <td>11.27</td>\n",
       "      <td>8.89</td>\n",
       "      <td>10.22</td>\n",
       "      <td>1.00</td>\n",
       "      <td>-1.0</td>\n",
       "      <td>-1.0</td>\n",
       "      <td>unknown</td>\n",
       "      <td>31.38</td>\n",
       "    </tr>\n",
       "  </tbody>\n",
       "</table>\n",
       "</div>"
      ],
      "text/plain": [
       "                       name platform  year_of_release         genre  na_sales  \\\n",
       "0                wii sports      wii             2006        sports     41.36   \n",
       "1         super mario bros.      nes             1985      platform     29.08   \n",
       "2            mario kart wii      wii             2008        racing     15.68   \n",
       "3         wii sports resort      wii             2009        sports     15.61   \n",
       "4  pokemon red/pokemon blue       gb             1996  role-playing     11.27   \n",
       "\n",
       "   eu_sales  jp_sales  other_sales  critic_score  user_score   rating  \\\n",
       "0     28.96      3.77         8.45          76.0         8.0        E   \n",
       "1      3.58      6.81         0.77          -1.0        -1.0  unknown   \n",
       "2     12.76      3.79         3.29          82.0         8.3        E   \n",
       "3     10.93      3.28         2.95          80.0         8.0        E   \n",
       "4      8.89     10.22         1.00          -1.0        -1.0  unknown   \n",
       "\n",
       "   total_sales  \n",
       "0        82.54  \n",
       "1        40.24  \n",
       "2        35.52  \n",
       "3        32.77  \n",
       "4        31.38  "
      ]
     },
     "execution_count": 27,
     "metadata": {},
     "output_type": "execute_result"
    }
   ],
   "source": [
    "# convert column names to lowercase\n",
    "data['name'] = data['name'].str.lower()\n",
    "data['platform'] = data['platform'].str.lower()\n",
    "data['genre'] = data['genre'].str.lower()\n",
    "data.head()"
   ]
  },
  {
   "cell_type": "code",
   "execution_count": 28,
   "id": "40dde70d",
   "metadata": {},
   "outputs": [
    {
     "data": {
      "text/html": [
       "<div>\n",
       "<style scoped>\n",
       "    .dataframe tbody tr th:only-of-type {\n",
       "        vertical-align: middle;\n",
       "    }\n",
       "\n",
       "    .dataframe tbody tr th {\n",
       "        vertical-align: top;\n",
       "    }\n",
       "\n",
       "    .dataframe thead th {\n",
       "        text-align: right;\n",
       "    }\n",
       "</style>\n",
       "<table border=\"1\" class=\"dataframe\">\n",
       "  <thead>\n",
       "    <tr style=\"text-align: right;\">\n",
       "      <th></th>\n",
       "      <th>name</th>\n",
       "      <th>platform</th>\n",
       "      <th>year_of_release</th>\n",
       "      <th>genre</th>\n",
       "      <th>na_sales</th>\n",
       "      <th>eu_sales</th>\n",
       "      <th>jp_sales</th>\n",
       "      <th>other_sales</th>\n",
       "      <th>critic_score</th>\n",
       "      <th>user_score</th>\n",
       "      <th>rating</th>\n",
       "      <th>total_sales</th>\n",
       "    </tr>\n",
       "  </thead>\n",
       "  <tbody>\n",
       "    <tr>\n",
       "      <th>604</th>\n",
       "      <td>madden nfl 13</td>\n",
       "      <td>ps3</td>\n",
       "      <td>2012</td>\n",
       "      <td>sports</td>\n",
       "      <td>2.11</td>\n",
       "      <td>0.22</td>\n",
       "      <td>0.0</td>\n",
       "      <td>0.23</td>\n",
       "      <td>83.0</td>\n",
       "      <td>5.5</td>\n",
       "      <td>E</td>\n",
       "      <td>2.56</td>\n",
       "    </tr>\n",
       "    <tr>\n",
       "      <th>16230</th>\n",
       "      <td>madden nfl 13</td>\n",
       "      <td>ps3</td>\n",
       "      <td>2012</td>\n",
       "      <td>sports</td>\n",
       "      <td>0.00</td>\n",
       "      <td>0.01</td>\n",
       "      <td>0.0</td>\n",
       "      <td>0.00</td>\n",
       "      <td>83.0</td>\n",
       "      <td>5.5</td>\n",
       "      <td>E</td>\n",
       "      <td>0.01</td>\n",
       "    </tr>\n",
       "  </tbody>\n",
       "</table>\n",
       "</div>"
      ],
      "text/plain": [
       "                name platform  year_of_release   genre  na_sales  eu_sales  \\\n",
       "604    madden nfl 13      ps3             2012  sports      2.11      0.22   \n",
       "16230  madden nfl 13      ps3             2012  sports      0.00      0.01   \n",
       "\n",
       "       jp_sales  other_sales  critic_score  user_score rating  total_sales  \n",
       "604         0.0         0.23          83.0         5.5      E         2.56  \n",
       "16230       0.0         0.00          83.0         5.5      E         0.01  "
      ]
     },
     "execution_count": 28,
     "metadata": {},
     "output_type": "execute_result"
    }
   ],
   "source": [
    "# check if there are any duplicates in object type columns\n",
    "data[data.duplicated(subset=['name','platform','year_of_release','genre','rating'], keep=False)]"
   ]
  },
  {
   "cell_type": "code",
   "execution_count": 29,
   "id": "085c2b6c",
   "metadata": {},
   "outputs": [],
   "source": [
    "# delete duplicate row\n",
    "data = data.drop_duplicates(subset=['name','platform','year_of_release','genre','rating'])"
   ]
  },
  {
   "cell_type": "code",
   "execution_count": 30,
   "id": "39634793",
   "metadata": {},
   "outputs": [
    {
     "data": {
      "text/plain": [
       "0"
      ]
     },
     "execution_count": 30,
     "metadata": {},
     "output_type": "execute_result"
    }
   ],
   "source": [
    "# check for duplicates\n",
    "data.duplicated(subset=['name','platform','year_of_release','genre','rating']).sum()"
   ]
  },
  {
   "cell_type": "markdown",
   "id": "33d30725",
   "metadata": {},
   "source": [
    "**Summary:**\n",
    "\n",
    "- converted column names to lowercase\n",
    "- changed the data types of columns `year_of_release` and `user_score`\n",
    "- processed missing values with dummies\n",
    "- calculated total sales in all regions\n",
    "- found and deleted duplicates in object type columns"
   ]
  },
  {
   "cell_type": "markdown",
   "id": "b00290db",
   "metadata": {},
   "source": [
    "## Exploratory data analysis"
   ]
  },
  {
   "cell_type": "code",
   "execution_count": 31,
   "id": "1f92f6a2",
   "metadata": {},
   "outputs": [],
   "source": [
    "# create a dictionary for the name of the graph\n",
    "column_dict_title = {'year_of_release': 'Year of release', 'platform': 'Platforms', 'total_sales': 'Total sales'}"
   ]
  },
  {
   "cell_type": "code",
   "execution_count": 32,
   "id": "1f603b7b",
   "metadata": {},
   "outputs": [],
   "source": [
    "def create_any_bar(groupby_column, func, y='name'):\n",
    "    '''\n",
    "    Aplies a function to a groupby_column and draws a bar chart\n",
    "    '''\n",
    "    data_to_plot = data.groupby(groupby_column)[y]\n",
    "    if func == 'count':\n",
    "        data_to_plot_calculated = data_to_plot.count()\n",
    "        figsize = (15,5)\n",
    "        plot = data_to_plot_calculated.plot(kind='bar', y=y, figsize=figsize, ec='black')\n",
    "    elif func == 'sum':\n",
    "        data_to_plot_calculated = data_to_plot.sum().sort_values()\n",
    "        figsize = (15,10)\n",
    "        plot = data_to_plot_calculated.plot(kind='barh', y=y, figsize=figsize, ec='black')"
   ]
  },
  {
   "cell_type": "markdown",
   "id": "4f10b6bb",
   "metadata": {},
   "source": [
    "### Number of released games by year"
   ]
  },
  {
   "cell_type": "code",
   "execution_count": 33,
   "id": "f30670bc",
   "metadata": {
    "scrolled": false
   },
   "outputs": [
    {
     "data": {
      "image/png": "[encoded data removed]",
      "text/plain": [
       "<Figure size 1080x360 with 1 Axes>"
      ]
     },
     "metadata": {
      "needs_background": "light"
     },
     "output_type": "display_data"
    }
   ],
   "source": [
    "# how many games were released each year\n",
    "create_any_bar('year_of_release', 'count')\n",
    "plt.title('Number of released games by year')\n",
    "plt.xlabel('Year of release')    \n",
    "plt.ylabel('Number of games')\n",
    "plt.show()"
   ]
  },
  {
   "cell_type": "markdown",
   "id": "34363ae8",
   "metadata": {},
   "source": [
    "**Summary:**\n",
    "\n",
    "- There were only a few games up to 1994. \n",
    "- A sharp jump in the number of released games occured in 2002.\n",
    "- There was a decline after the peak in 2008 and 2009 due to the development of mobile devices, and the integration of social networks into people's lives. All this may have led to a decrease in interest and a decline in production."
   ]
  },
  {
   "cell_type": "markdown",
   "id": "f53d2ba0",
   "metadata": {},
   "source": [
    "### Game sales dynamics by platform"
   ]
  },
  {
   "cell_type": "markdown",
   "id": "72e5399b",
   "metadata": {},
   "source": [
    "Let's look at how sales changed by platforms and plot the distribution by years for the platforms with the highest total sales."
   ]
  },
  {
   "cell_type": "code",
   "execution_count": 34,
   "id": "77f6ea7e",
   "metadata": {},
   "outputs": [
    {
     "data": {
      "image/png": "[encoded data removed]",
      "text/plain": [
       "<Figure size 1080x720 with 1 Axes>"
      ]
     },
     "metadata": {
      "needs_background": "light"
     },
     "output_type": "display_data"
    }
   ],
   "source": [
    "create_any_bar('platform', 'sum', 'total_sales')\n",
    "plt.title('Total sales of released games by platforms')\n",
    "plt.xlabel('Total sales, millions of copies')    \n",
    "plt.ylabel('Platforms')\n",
    "plt.show()"
   ]
  },
  {
   "cell_type": "markdown",
   "id": "ef336e0d",
   "metadata": {},
   "source": [
    "The top platform is PS2, then X360, PS3 and Wii.\n",
    "\n",
    "Let's choose the top-10 platforms with the highest total sales for the whole period."
   ]
  },
  {
   "cell_type": "code",
   "execution_count": 35,
   "id": "6f144957",
   "metadata": {},
   "outputs": [
    {
     "data": {
      "text/html": [
       "<div>\n",
       "<style scoped>\n",
       "    .dataframe tbody tr th:only-of-type {\n",
       "        vertical-align: middle;\n",
       "    }\n",
       "\n",
       "    .dataframe tbody tr th {\n",
       "        vertical-align: top;\n",
       "    }\n",
       "\n",
       "    .dataframe thead th {\n",
       "        text-align: right;\n",
       "    }\n",
       "</style>\n",
       "<table border=\"1\" class=\"dataframe\">\n",
       "  <thead>\n",
       "    <tr style=\"text-align: right;\">\n",
       "      <th></th>\n",
       "      <th>platform</th>\n",
       "      <th>total_sales</th>\n",
       "    </tr>\n",
       "  </thead>\n",
       "  <tbody>\n",
       "    <tr>\n",
       "      <th>0</th>\n",
       "      <td>ps2</td>\n",
       "      <td>1255.77</td>\n",
       "    </tr>\n",
       "    <tr>\n",
       "      <th>1</th>\n",
       "      <td>x360</td>\n",
       "      <td>971.42</td>\n",
       "    </tr>\n",
       "    <tr>\n",
       "      <th>2</th>\n",
       "      <td>ps3</td>\n",
       "      <td>939.64</td>\n",
       "    </tr>\n",
       "    <tr>\n",
       "      <th>3</th>\n",
       "      <td>wii</td>\n",
       "      <td>907.51</td>\n",
       "    </tr>\n",
       "    <tr>\n",
       "      <th>4</th>\n",
       "      <td>ds</td>\n",
       "      <td>806.12</td>\n",
       "    </tr>\n",
       "    <tr>\n",
       "      <th>5</th>\n",
       "      <td>ps</td>\n",
       "      <td>730.86</td>\n",
       "    </tr>\n",
       "    <tr>\n",
       "      <th>6</th>\n",
       "      <td>gba</td>\n",
       "      <td>317.85</td>\n",
       "    </tr>\n",
       "    <tr>\n",
       "      <th>7</th>\n",
       "      <td>ps4</td>\n",
       "      <td>314.14</td>\n",
       "    </tr>\n",
       "    <tr>\n",
       "      <th>8</th>\n",
       "      <td>psp</td>\n",
       "      <td>294.05</td>\n",
       "    </tr>\n",
       "    <tr>\n",
       "      <th>9</th>\n",
       "      <td>pc</td>\n",
       "      <td>259.52</td>\n",
       "    </tr>\n",
       "  </tbody>\n",
       "</table>\n",
       "</div>"
      ],
      "text/plain": [
       "  platform  total_sales\n",
       "0      ps2      1255.77\n",
       "1     x360       971.42\n",
       "2      ps3       939.64\n",
       "3      wii       907.51\n",
       "4       ds       806.12\n",
       "5       ps       730.86\n",
       "6      gba       317.85\n",
       "7      ps4       314.14\n",
       "8      psp       294.05\n",
       "9       pc       259.52"
      ]
     },
     "execution_count": 35,
     "metadata": {},
     "output_type": "execute_result"
    }
   ],
   "source": [
    "top_platforms_by_sales = data.groupby('platform')['total_sales'].sum().to_frame().sort_values(by='total_sales', ascending=False).head(10).reset_index()\n",
    "top_platforms_by_sales"
   ]
  },
  {
   "cell_type": "code",
   "execution_count": 36,
   "id": "8d2afd00",
   "metadata": {},
   "outputs": [],
   "source": [
    "# save the top-10 platforms by total sales\n",
    "top_platforms_all = top_platforms_by_sales['platform'].tolist()"
   ]
  },
  {
   "cell_type": "code",
   "execution_count": 37,
   "id": "2bc9d045",
   "metadata": {},
   "outputs": [],
   "source": [
    "def create_any_lines(platforms=None, query=None):\n",
    "    '''\n",
    "    function draws lines for platforms (if platforms=None it means for all platforms)\n",
    "    using filtered data by query expression (if query=None it means filtering is not needed)\n",
    "    '''\n",
    "    ax = plt.gca()\n",
    "    legend_list = []\n",
    "    if query == None:\n",
    "        if platforms == None:\n",
    "            platforms = data['platform'].unique().tolist()\n",
    "        else:\n",
    "            platforms = platforms\n",
    "    else:\n",
    "        platforms = data.query(query).query('year_of_release < 2020')['platform'].unique().tolist()\n",
    "        \n",
    "    bbox_y = 1.0\n",
    "    legend_size = 9\n",
    "        \n",
    "    for platform in platforms:\n",
    "        if query == None:\n",
    "            data_to_plot = data.query('platform == @platform').query('year_of_release < 2020')\n",
    "        else:\n",
    "            data_to_plot = data.query('platform == @platform').query('year_of_release < 2020').query(query)\n",
    "        lines = data_to_plot.groupby('year_of_release')['total_sales'].sum().plot(x='year_of_release', y='total_sales',\n",
    "                                                                    style='.-', kind='line', fontsize=10,\n",
    "                                                                    linewidth=1, label=platform, ax=ax, figsize=(15,7.5))\n",
    "        legend_list.append(platform)\n",
    "    \n",
    "    ax.set_xlabel('')\n",
    "    ax.legend(legend_list, prop={'size':legend_size}, bbox_to_anchor=(1.0, bbox_y))"
   ]
  },
  {
   "cell_type": "code",
   "execution_count": 38,
   "id": "11c5f46b",
   "metadata": {},
   "outputs": [
    {
     "data": {
      "image/png": "[encoded data removed]",
      "text/plain": [
       "<Figure size 1080x540 with 1 Axes>"
      ]
     },
     "metadata": {
      "needs_background": "light"
     },
     "output_type": "display_data"
    }
   ],
   "source": [
    "# for top platforms by total sales for the whole period\n",
    "create_any_lines(platforms=top_platforms_all)\n",
    "plt.title('Game sales dynamics by platform')\n",
    "plt.xlabel('Year of release')    \n",
    "plt.ylabel('Total sales, millions of copies')\n",
    "plt.show()"
   ]
  },
  {
   "cell_type": "markdown",
   "id": "65773b6a",
   "metadata": {},
   "source": [
    "**Summary:**\n",
    "\n",
    "- PS2 lasted from 2000 to 2011;\n",
    "- X360 appeared in 2005;\n",
    "- PS3 from 2006 to the present is still alive, but began to lose ground strongly with the release of PS4 in 2013;\n",
    "- The Wii has been around since 2006, but in 2016 it has almost died;\n",
    "- DS came out in 1985, but there is no data at all until 2004, most likely because they were not collected. And since 2004, the popularity began to grow, the peak was in 2007, the end of the service life was in 2013;\n",
    "- PS lasted from 1994 to 2003;\n",
    "- GBA lasted from 2000 to 2007;\n",
    "- PC games appeared in 1985 and are played to this day.\n",
    "\n",
    "Thus, an average platform lives 10 years, and would have lived longer if newer ones had not come out, but this is inevitable because the progress is moving forward and the hardware in older platforms no longer meets the technical requirements of new games. On average a platform loses its relevance in 10 years."
   ]
  },
  {
   "cell_type": "markdown",
   "id": "1a007b75",
   "metadata": {},
   "source": [
    "### Game sales dynamics for the period of interest"
   ]
  },
  {
   "cell_type": "markdown",
   "id": "26d630fa",
   "metadata": {},
   "source": [
    "It is necessary to choose the period of interest for which we will evaluate our data, based on the results of which we will build a forecast for 2017.\n",
    "\n",
    "In my opinion, the period of interest is from 2013 to 2016:\n",
    "* this is the interval when many popular platforms came out or are about to come out;\n",
    "* data for all the most popular platforms are available in this period.\n",
    "\n",
    "Let's build another graph that displays the dynamics of sales for the period of interest and answer the question:\n",
    "Which platforms are 1) leading in sales, 2) rising or 3) falling?"
   ]
  },
  {
   "cell_type": "code",
   "execution_count": 39,
   "id": "698b6a16",
   "metadata": {},
   "outputs": [
    {
     "data": {
      "image/png": "[encoded data removed]",
      "text/plain": [
       "<Figure size 1080x540 with 1 Axes>"
      ]
     },
     "metadata": {
      "needs_background": "light"
     },
     "output_type": "display_data"
    }
   ],
   "source": [
    "# Based on the obtained data, let's select several potentially profitable platforms\n",
    "create_any_lines(query='year_of_release >= 2013')\n",
    "plt.title('Game sales dynamics by platform since 2013')\n",
    "plt.xlabel('Year of release')    \n",
    "plt.ylabel('Total sales, millions of copies')\n",
    "plt.show()"
   ]
  },
  {
   "cell_type": "markdown",
   "id": "c139f21e",
   "metadata": {},
   "source": [
    "Which platforms are 1) leading in sales, 2) rising or 3) falling?\n",
    "\n",
    "* For the period of interest, the leaders in sales are PS3, X360, PS4;\n",
    "* PS4 and XOne are rising until 2015, all others are falling.\n",
    "\n",
    "Moreover, based on the data, the number of sales of games released on each of these platforms is declining. Thus, we can say that the entire gaming market is falling."
   ]
  },
  {
   "cell_type": "markdown",
   "id": "fd4455ca",
   "metadata": {},
   "source": [
    "### Global sales information by platform"
   ]
  },
  {
   "cell_type": "markdown",
   "id": "f15b9c35",
   "metadata": {},
   "source": [
    "Let's draw a boxplot of global game sales by platform. We will evaluate the difference in sales and average sales on different platforms."
   ]
  },
  {
   "cell_type": "code",
   "execution_count": 40,
   "id": "d7807f6a",
   "metadata": {},
   "outputs": [],
   "source": [
    "# take data only for the period of interest\n",
    "data_actual = data.query('year_of_release >= 2013 and year_of_release < 2020').reset_index(drop=True)"
   ]
  },
  {
   "cell_type": "code",
   "execution_count": 41,
   "id": "45240250",
   "metadata": {
    "scrolled": true
   },
   "outputs": [
    {
     "name": "stdout",
     "output_type": "stream",
     "text": [
      "<class 'pandas.core.frame.DataFrame'>\n",
      "RangeIndex: 2233 entries, 0 to 2232\n",
      "Data columns (total 12 columns):\n",
      " #   Column           Non-Null Count  Dtype  \n",
      "---  ------           --------------  -----  \n",
      " 0   name             2233 non-null   object \n",
      " 1   platform         2233 non-null   object \n",
      " 2   year_of_release  2233 non-null   int64  \n",
      " 3   genre            2233 non-null   object \n",
      " 4   na_sales         2233 non-null   float64\n",
      " 5   eu_sales         2233 non-null   float64\n",
      " 6   jp_sales         2233 non-null   float64\n",
      " 7   other_sales      2233 non-null   float64\n",
      " 8   critic_score     2233 non-null   float64\n",
      " 9   user_score       2233 non-null   float64\n",
      " 10  rating           2233 non-null   object \n",
      " 11  total_sales      2233 non-null   float64\n",
      "dtypes: float64(7), int64(1), object(4)\n",
      "memory usage: 209.5+ KB\n"
     ]
    }
   ],
   "source": [
    "data_actual.info()"
   ]
  },
  {
   "cell_type": "markdown",
   "id": "86514f32",
   "metadata": {},
   "source": [
    "Let's choose the top platforms with the largest total sales for the period of interest."
   ]
  },
  {
   "cell_type": "code",
   "execution_count": 42,
   "id": "cd372048",
   "metadata": {
    "scrolled": true
   },
   "outputs": [
    {
     "data": {
      "text/html": [
       "<div>\n",
       "<style scoped>\n",
       "    .dataframe tbody tr th:only-of-type {\n",
       "        vertical-align: middle;\n",
       "    }\n",
       "\n",
       "    .dataframe tbody tr th {\n",
       "        vertical-align: top;\n",
       "    }\n",
       "\n",
       "    .dataframe thead th {\n",
       "        text-align: right;\n",
       "    }\n",
       "</style>\n",
       "<table border=\"1\" class=\"dataframe\">\n",
       "  <thead>\n",
       "    <tr style=\"text-align: right;\">\n",
       "      <th></th>\n",
       "      <th>platform</th>\n",
       "      <th>total_sales</th>\n",
       "    </tr>\n",
       "  </thead>\n",
       "  <tbody>\n",
       "    <tr>\n",
       "      <th>0</th>\n",
       "      <td>ps4</td>\n",
       "      <td>314.14</td>\n",
       "    </tr>\n",
       "    <tr>\n",
       "      <th>1</th>\n",
       "      <td>ps3</td>\n",
       "      <td>181.43</td>\n",
       "    </tr>\n",
       "    <tr>\n",
       "      <th>2</th>\n",
       "      <td>xone</td>\n",
       "      <td>159.32</td>\n",
       "    </tr>\n",
       "    <tr>\n",
       "      <th>3</th>\n",
       "      <td>3ds</td>\n",
       "      <td>143.25</td>\n",
       "    </tr>\n",
       "    <tr>\n",
       "      <th>4</th>\n",
       "      <td>x360</td>\n",
       "      <td>136.80</td>\n",
       "    </tr>\n",
       "    <tr>\n",
       "      <th>5</th>\n",
       "      <td>wiiu</td>\n",
       "      <td>64.63</td>\n",
       "    </tr>\n",
       "    <tr>\n",
       "      <th>6</th>\n",
       "      <td>pc</td>\n",
       "      <td>39.43</td>\n",
       "    </tr>\n",
       "    <tr>\n",
       "      <th>7</th>\n",
       "      <td>psv</td>\n",
       "      <td>32.99</td>\n",
       "    </tr>\n",
       "    <tr>\n",
       "      <th>8</th>\n",
       "      <td>wii</td>\n",
       "      <td>13.66</td>\n",
       "    </tr>\n",
       "    <tr>\n",
       "      <th>9</th>\n",
       "      <td>psp</td>\n",
       "      <td>3.50</td>\n",
       "    </tr>\n",
       "  </tbody>\n",
       "</table>\n",
       "</div>"
      ],
      "text/plain": [
       "  platform  total_sales\n",
       "0      ps4       314.14\n",
       "1      ps3       181.43\n",
       "2     xone       159.32\n",
       "3      3ds       143.25\n",
       "4     x360       136.80\n",
       "5     wiiu        64.63\n",
       "6       pc        39.43\n",
       "7      psv        32.99\n",
       "8      wii        13.66\n",
       "9      psp         3.50"
      ]
     },
     "execution_count": 42,
     "metadata": {},
     "output_type": "execute_result"
    }
   ],
   "source": [
    "top_platforms_by_sales_actual = data_actual.groupby('platform')['total_sales'].sum().to_frame().sort_values(by='total_sales', ascending=False).reset_index().head(10)\n",
    "top_platforms_by_sales_actual"
   ]
  },
  {
   "cell_type": "code",
   "execution_count": 43,
   "id": "21323278",
   "metadata": {},
   "outputs": [],
   "source": [
    "# save the top-10 platforms\n",
    "top_platforms_actual = top_platforms_by_sales_actual['platform'].tolist()"
   ]
  },
  {
   "cell_type": "code",
   "execution_count": 44,
   "id": "1f179c48",
   "metadata": {},
   "outputs": [],
   "source": [
    "def create_any_sales_boxplot(title=None, query_condition = None, ylims=None):\n",
    "    '''\n",
    "    function draws boxplot according to the query_condition\n",
    "    '''\n",
    "    if query_condition == None:\n",
    "        plt.figure(figsize=(12,10))\n",
    "        ax = sns.boxplot(data=data_actual, y='total_sales')\n",
    "    else:\n",
    "        data_query = data_actual.query(query_condition)\n",
    "        by_column = query_condition.split()[0]\n",
    "        \n",
    "        plt.figure(figsize=(12,10))\n",
    "        ax = sns.boxplot(data=data_query, x=by_column, y='total_sales')\n",
    "        \n",
    "        ax.set_xlabel('')\n",
    "        ax.set_title('')\n",
    "        plt.xlabel(by_column, fontsize=14)\n",
    "    if ylims != None:\n",
    "        ax.set_ylim(ylims)\n",
    "    if title != None:\n",
    "        plt.suptitle(title, y=0.92, fontsize=18)\n",
    "    plt.ylabel('Total sales, millions of copies', fontsize=14)\n",
    "    plt.tick_params(labelsize=12)"
   ]
  },
  {
   "cell_type": "code",
   "execution_count": 45,
   "id": "a278134a",
   "metadata": {},
   "outputs": [
    {
     "data": {
      "image/png": "[encoded data removed]",
      "text/plain": [
       "<Figure size 864x720 with 1 Axes>"
      ]
     },
     "metadata": {
      "needs_background": "light"
     },
     "output_type": "display_data"
    }
   ],
   "source": [
    "create_any_sales_boxplot('Boxplot for global game sales', ylims=[-0.25,2])"
   ]
  },
  {
   "cell_type": "markdown",
   "id": "376272c6",
   "metadata": {},
   "source": [
    "Let's draw boxplots of global game sales by platform for the period of interest."
   ]
  },
  {
   "cell_type": "code",
   "execution_count": 46,
   "id": "f8d066ab",
   "metadata": {
    "scrolled": false
   },
   "outputs": [
    {
     "data": {
      "image/png": "[encoded data removed]",
      "text/plain": [
       "<Figure size 864x720 with 1 Axes>"
      ]
     },
     "metadata": {
      "needs_background": "light"
     },
     "output_type": "display_data"
    }
   ],
   "source": [
    "create_any_sales_boxplot('Boxplots of global game sales by platform', query_condition=\"platform in @top_platforms_actual\", ylims=[0,2])\n",
    "# plt.xlabel('Platforms', fontsize=14);\n",
    "plt.xlabel('Platforms');"
   ]
  },
  {
   "cell_type": "markdown",
   "id": "266c4095",
   "metadata": {},
   "source": [
    "* The top platforms for the period of interest (2013-2016) include X360, Wii, PS4 and XOne. \n",
    "* The median of X360 is just above 0.25 million copies per game, while for PS4, Wii and XOne it is just under 0.25 million. \n",
    "* PS4 and XOne were released in the same year (2013). PS4 has more sales than XOne. \n",
    "* X360 for the period of interest is significantly ahead of its main competitor PS3.\n",
    "\n",
    "The upper limit, beyond which anomalies occur, is at the level of 1.7 million copies for the PS4 and X360 platforms, and is at 1.65 million for the XOne and Wii."
   ]
  },
  {
   "cell_type": "markdown",
   "id": "e43c7bb0",
   "metadata": {},
   "source": [
    "### The impact of user and critic scores on sales"
   ]
  },
  {
   "cell_type": "markdown",
   "id": "43b41adf",
   "metadata": {},
   "source": [
    "We will look at how the user and critic scores affect on sales within one popular platform. Let's build a scatterplot and calculate the correlation between scores and sales.\n",
    "\n",
    "Let's take PS4 as a popular platform - it's a new platform (released in 2013), so there is more data on it, and even at the end of 2016 it is one of the most popular gaming platforms."
   ]
  },
  {
   "cell_type": "markdown",
   "id": "6570fb2f",
   "metadata": {},
   "source": [
    "#### Scatterplot of total game sales versus critic and user scores"
   ]
  },
  {
   "cell_type": "code",
   "execution_count": 47,
   "id": "c9f74df0",
   "metadata": {},
   "outputs": [],
   "source": [
    "data_ps4_critic = data_actual.query('platform == \"ps4\" and critic_score >= 0').copy()"
   ]
  },
  {
   "cell_type": "code",
   "execution_count": 48,
   "id": "fd68fe5a",
   "metadata": {},
   "outputs": [
    {
     "data": {
      "image/png": "[encoded data removed]",
      "text/plain": [
       "<Figure size 1080x576 with 1 Axes>"
      ]
     },
     "metadata": {
      "needs_background": "light"
     },
     "output_type": "display_data"
    }
   ],
   "source": [
    "plt.figure(figsize=(15, 8)) \n",
    "sns.scatterplot(data=data_ps4_critic, x=\"critic_score\", y=\"total_sales\", ec='black')\n",
    "plt.title('Scatterplot of total game sales versus critic scores')\n",
    "plt.xlabel('Critic scores')    \n",
    "plt.ylabel('Total sales, millions of copies')\n",
    "plt.show()"
   ]
  },
  {
   "cell_type": "markdown",
   "id": "7a851e67",
   "metadata": {},
   "source": [
    "The average number of sales increases with an increase in the average critic score, which is logical: the better the game, the more money it brings to the developer and publisher."
   ]
  },
  {
   "cell_type": "code",
   "execution_count": 49,
   "id": "a2661574",
   "metadata": {},
   "outputs": [],
   "source": [
    "data_ps4_user = data_actual.query('platform == \"ps4\" and user_score >= 0').copy()"
   ]
  },
  {
   "cell_type": "code",
   "execution_count": 50,
   "id": "ad49bec5",
   "metadata": {},
   "outputs": [
    {
     "data": {
      "image/png": "[encoded data removed]",
      "text/plain": [
       "<Figure size 1080x576 with 1 Axes>"
      ]
     },
     "metadata": {
      "needs_background": "light"
     },
     "output_type": "display_data"
    }
   ],
   "source": [
    "plt.figure(figsize=(15, 8)) \n",
    "sns.scatterplot(data=data_ps4_user, x=\"user_score\", y=\"total_sales\", ec='black')\n",
    "plt.title('Scatterplot of total game sales versus user scores')\n",
    "plt.xlabel('User scores')    \n",
    "plt.ylabel('Total sales, millions of copies')\n",
    "plt.show()"
   ]
  },
  {
   "cell_type": "markdown",
   "id": "e9906e6e",
   "metadata": {},
   "source": [
    "We see that the critic scores seem to be more trusted, there are more outliers for which the user score is not high, but nevertheless the game collects a lot of money. For example, when a game is popular, but not everyone likes it, then such outliers and low ratings from users are obtained. An example is the recent Need for Speed series, when everyone buys the game (due to the success of the previous release), making a profit for the developers, and then they get upset when they see what this game is and give it rather average ratings."
   ]
  },
  {
   "cell_type": "markdown",
   "id": "fc649754",
   "metadata": {},
   "source": [
    "#### Correlation matrix"
   ]
  },
  {
   "cell_type": "code",
   "execution_count": 51,
   "id": "be03e547",
   "metadata": {},
   "outputs": [
    {
     "data": {
      "text/html": [
       "<div>\n",
       "<style scoped>\n",
       "    .dataframe tbody tr th:only-of-type {\n",
       "        vertical-align: middle;\n",
       "    }\n",
       "\n",
       "    .dataframe tbody tr th {\n",
       "        vertical-align: top;\n",
       "    }\n",
       "\n",
       "    .dataframe thead th {\n",
       "        text-align: right;\n",
       "    }\n",
       "</style>\n",
       "<table border=\"1\" class=\"dataframe\">\n",
       "  <thead>\n",
       "    <tr style=\"text-align: right;\">\n",
       "      <th></th>\n",
       "      <th>total_sales</th>\n",
       "      <th>critic_score</th>\n",
       "      <th>user_score</th>\n",
       "    </tr>\n",
       "  </thead>\n",
       "  <tbody>\n",
       "    <tr>\n",
       "      <th>0</th>\n",
       "      <td>12.62</td>\n",
       "      <td>97.0</td>\n",
       "      <td>8.3</td>\n",
       "    </tr>\n",
       "    <tr>\n",
       "      <th>1</th>\n",
       "      <td>8.58</td>\n",
       "      <td>82.0</td>\n",
       "      <td>4.3</td>\n",
       "    </tr>\n",
       "    <tr>\n",
       "      <th>2</th>\n",
       "      <td>7.66</td>\n",
       "      <td>83.0</td>\n",
       "      <td>5.7</td>\n",
       "    </tr>\n",
       "    <tr>\n",
       "      <th>3</th>\n",
       "      <td>7.60</td>\n",
       "      <td>85.0</td>\n",
       "      <td>5.0</td>\n",
       "    </tr>\n",
       "    <tr>\n",
       "      <th>4</th>\n",
       "      <td>7.17</td>\n",
       "      <td>87.0</td>\n",
       "      <td>6.5</td>\n",
       "    </tr>\n",
       "  </tbody>\n",
       "</table>\n",
       "</div>"
      ],
      "text/plain": [
       "   total_sales  critic_score  user_score\n",
       "0        12.62          97.0         8.3\n",
       "1         8.58          82.0         4.3\n",
       "2         7.66          83.0         5.7\n",
       "3         7.60          85.0         5.0\n",
       "4         7.17          87.0         6.5"
      ]
     },
     "execution_count": 51,
     "metadata": {},
     "output_type": "execute_result"
    }
   ],
   "source": [
    "data_ps4_filtered = data_actual.query('platform == \"ps4\" and user_score >= 0 and critic_score >= 0')[['total_sales' ,'critic_score', 'user_score']].reset_index(drop=True)\n",
    "data_ps4_filtered.head()"
   ]
  },
  {
   "cell_type": "code",
   "execution_count": 52,
   "id": "627b60e7",
   "metadata": {},
   "outputs": [
    {
     "data": {
      "image/png": "[encoded data removed]",
      "text/plain": [
       "<Figure size 72x216 with 2 Axes>"
      ]
     },
     "metadata": {
      "needs_background": "light"
     },
     "output_type": "display_data"
    }
   ],
   "source": [
    "plt.figure(figsize=(1,3))\n",
    "sns.heatmap(data_ps4_filtered.corr()[['total_sales']], annot=True, cmap=\"Greens\", fmt='.2f', annot_kws={'size':16})\n",
    "plt.show()"
   ]
  },
  {
   "cell_type": "markdown",
   "id": "08f2ef7c",
   "metadata": {},
   "source": [
    "Sales are more strongly correlated with critic scores than with user scores. This can be explained by the fact that critic scores are released before the release of the game, and users usually buy games based on critic reviews."
   ]
  },
  {
   "cell_type": "markdown",
   "id": "bd237c23",
   "metadata": {},
   "source": [
    "#### Correlation data for the top platforms\n",
    "\n",
    "Let's compare the previous findings with correlation data on other platforms."
   ]
  },
  {
   "cell_type": "code",
   "execution_count": 53,
   "id": "f19b886a",
   "metadata": {},
   "outputs": [
    {
     "data": {
      "image/png": "[encoded data removed]",
      "text/plain": [
       "<Figure size 1080x612 with 12 Axes>"
      ]
     },
     "metadata": {
      "needs_background": "light"
     },
     "output_type": "display_data"
    }
   ],
   "source": [
    "top_platforms = ['x360', 'ps3', 'xone', 'ps4', 'wiiu', '3ds']\n",
    "\n",
    "rows = len(top_platforms) // 2\n",
    "cols = 2\n",
    "fig, axes = plt.subplots(rows, cols, figsize=(15,8.5))\n",
    "count = 0\n",
    "for r in range(rows):\n",
    "    for c in range(cols):\n",
    "        curr_platform = top_platforms[count]\n",
    "        data_actual_prep = data_actual.query('platform == @curr_platform and user_score >= 0 and critic_score >= 0')        \n",
    "        data_actual_filtered = data_actual_prep[['total_sales' ,'critic_score', 'user_score']]\n",
    "        sns.set(font_scale=1.0)\n",
    "        ax = sns.heatmap(data_actual_filtered.corr()[['total_sales']].sort_values(by='total_sales', ascending=False), \n",
    "                         cmap=\"Greens\", annot=True, annot_kws={'size':15}, ax=axes[r,c])\n",
    "        ax.set_title(curr_platform, fontsize=20)\n",
    "        ax.set_yticklabels(ax.get_yticklabels(), rotation=0)\n",
    "        plt.tight_layout(pad=3)\n",
    "        count += 1"
   ]
  },
  {
   "cell_type": "markdown",
   "id": "24b6b4b6",
   "metadata": {},
   "source": [
    "Wiiu stands out, for which the dependence on user scores is quite large compared to other platforms. On the other hand for PS4 and XOne platforms critic scores determine total sales much more strongly than user scores. These are fairly new platforms, it is likely that users have not \"got used to\" yet, so there are not a lot of reviews, especially high-quality ones."
   ]
  },
  {
   "cell_type": "markdown",
   "id": "a22917eb",
   "metadata": {},
   "source": [
    "### Distribution of games by genre"
   ]
  },
  {
   "cell_type": "markdown",
   "id": "7122ec8b",
   "metadata": {},
   "source": [
    "Let's draw a bar chart with the number of games and total sales and identify the most sold genres, and then look at the features of genres with high and low sales."
   ]
  },
  {
   "cell_type": "code",
   "execution_count": 54,
   "id": "15238ebb",
   "metadata": {
    "scrolled": false
   },
   "outputs": [
    {
     "data": {
      "image/png": "[encoded data removed]",
      "text/plain": [
       "<Figure size 1080x360 with 1 Axes>"
      ]
     },
     "metadata": {},
     "output_type": "display_data"
    }
   ],
   "source": [
    "ax = plt.gca()\n",
    "data_actual_genre = data_actual.groupby('genre').agg({'name': 'count', 'total_sales': 'sum'}).sort_values(by='name', ascending=False)\n",
    "\n",
    "genre_count = data_actual_genre['name']\n",
    "genre_count.plot(kind='bar', figsize=(15,5), ec='black', ax=ax, width=0.2, position=1)\n",
    "\n",
    "genre_total_sales = data_actual_genre['total_sales']\n",
    "genre_total_sales.plot(kind='bar', figsize=(15,5), ec='black', ax=ax, width=0.2, color='#97F0AA', position=0)\n",
    "\n",
    "ax.legend(['Number of games', 'Total sales (millions of copies)'])\n",
    "plt.tick_params(labelsize=12)\n",
    "plt.xticks(rotation=0)\n",
    "\n",
    "plt.show()"
   ]
  },
  {
   "cell_type": "markdown",
   "id": "3eb34fcb",
   "metadata": {},
   "source": [
    "The Action genre has the most numbers of games released and also the most sales. However, even if there are 4 times less number of games of the Shooter genre than in Action genre, its total amount of sales is only 2 times less. We can see that the ratio between the total sales and the number of games is the highest for the Shooter genre, probably because much more money is invested in the production of such games."
   ]
  },
  {
   "cell_type": "markdown",
   "id": "1716b10b",
   "metadata": {},
   "source": [
    "Let's build a boxplot of global game sales by genre for the period of interest."
   ]
  },
  {
   "cell_type": "code",
   "execution_count": 55,
   "id": "889f44d5",
   "metadata": {},
   "outputs": [
    {
     "data": {
      "text/plain": [
       "['action',\n",
       " 'shooter',\n",
       " 'role-playing',\n",
       " 'misc',\n",
       " 'sports',\n",
       " 'fighting',\n",
       " 'racing',\n",
       " 'simulation',\n",
       " 'platform',\n",
       " 'strategy',\n",
       " 'adventure',\n",
       " 'puzzle']"
      ]
     },
     "execution_count": 55,
     "metadata": {},
     "output_type": "execute_result"
    }
   ],
   "source": [
    "# save all genres into a list\n",
    "all_genres = data_actual['genre'].unique().tolist()\n",
    "all_genres"
   ]
  },
  {
   "cell_type": "code",
   "execution_count": 56,
   "id": "250cb957",
   "metadata": {
    "scrolled": false
   },
   "outputs": [
    {
     "data": {
      "image/png": "[encoded data removed]",
      "text/plain": [
       "<Figure size 864x720 with 1 Axes>"
      ]
     },
     "metadata": {},
     "output_type": "display_data"
    }
   ],
   "source": [
    "create_any_sales_boxplot('Boxplot of sales by genres', query_condition=\"genre in @all_genres\", ylims=[0,3.75])"
   ]
  },
  {
   "cell_type": "markdown",
   "id": "bd336a5d",
   "metadata": {},
   "source": [
    "As we can see, Shooter genre is on average more popular than other genres, followed by the Sports genre, then Platform genre, and so on. The least popular genre is Adventure. Action games sell about 150,000 copies on average, but some of Action games have very large sales, reaching up to 3.5 million copies. The Shooter genre seems to be the most attractive, every game of this genre sells quite well."
   ]
  },
  {
   "cell_type": "markdown",
   "id": "0e18de6d",
   "metadata": {},
   "source": [
    "## User portrait of each region"
   ]
  },
  {
   "cell_type": "markdown",
   "id": "106d11e8",
   "metadata": {},
   "source": [
    "Let's find out for each region (NA, EU, JP):\n",
    "* the most popular platforms (top 5);\n",
    "* the most popular genres (top 5);\n",
    "* Does the ESRB rating affect sales in a particular region?"
   ]
  },
  {
   "cell_type": "code",
   "execution_count": 57,
   "id": "132e0332",
   "metadata": {},
   "outputs": [],
   "source": [
    "def top_in_regions_plot(groupby_column, rot=0):\n",
    "    '''\n",
    "    function draws bar charts for the top 5 attributes of the entity (groupby_column) \n",
    "    for sale for each region\n",
    "    '''    \n",
    "    title_dict = {'na_sales': 'Sales (millions of copies) in North America', \n",
    "                  'eu_sales': 'Sales (millions of copies) in Europe', \n",
    "                  'jp_sales': 'Sales (millions of copies) in Japan'}\n",
    "    color_dict = {'na_sales': 'tab:blue', 'eu_sales': 'tab:gray', 'jp_sales': 'tab:green'}    \n",
    "    for ax, region_sales in enumerate(['na_sales', 'eu_sales', 'jp_sales']):\n",
    "        data_actual_grouped = data_actual.groupby(groupby_column).agg({region_sales: 'sum'}).sort_values(by=region_sales, ascending=False)[:5]\n",
    "        plot = data_actual_grouped.plot(kind='bar', ec='black', title=title_dict[region_sales], ax=axes[ax], \n",
    "                       fontsize=18, color=color_dict[region_sales], rot=rot, legend=None)\n",
    "        plot.set_xlabel('')\n",
    "        plot.title.set_size(20)"
   ]
  },
  {
   "cell_type": "markdown",
   "id": "2de32e98",
   "metadata": {},
   "source": [
    "### Top-5 platforms in the region of interest"
   ]
  },
  {
   "cell_type": "code",
   "execution_count": 58,
   "id": "01b0b6ee",
   "metadata": {},
   "outputs": [
    {
     "data": {
      "image/png": "[encoded data removed]",
      "text/plain": [
       "<Figure size 1800x432 with 3 Axes>"
      ]
     },
     "metadata": {},
     "output_type": "display_data"
    }
   ],
   "source": [
    "fig, axes = plt.subplots(1, 3, figsize=(25,6))\n",
    "\n",
    "top_in_regions_plot('platform')"
   ]
  },
  {
   "cell_type": "markdown",
   "id": "754250fe",
   "metadata": {},
   "source": [
    "3DS is more popular in Japan than in North America and Europe, probably because it originates from Japan. PS4 is the most popular in North America and Europe, followed by Xone in North America and PS3 in Europe. We can say that the distribution of top-5 platforms in North America and Europe is very similar, in contrast to Japan."
   ]
  },
  {
   "cell_type": "markdown",
   "id": "6df3806f",
   "metadata": {},
   "source": [
    "### Top-5 genres in the region of interest"
   ]
  },
  {
   "cell_type": "code",
   "execution_count": 59,
   "id": "b1d3b480",
   "metadata": {},
   "outputs": [
    {
     "data": {
      "image/png": "[encoded data removed]",
      "text/plain": [
       "<Figure size 1800x432 with 3 Axes>"
      ]
     },
     "metadata": {},
     "output_type": "display_data"
    }
   ],
   "source": [
    "fig, axes = plt.subplots(1, 3, figsize=(25,6))\n",
    "\n",
    "top_in_regions_plot('genre')"
   ]
  },
  {
   "cell_type": "markdown",
   "id": "89e6be8d",
   "metadata": {},
   "source": [
    "Preferences in North America and Europe are almost similar: the first 4 positions are the same. The preferences in Japan are significantly different: Role-playing games come first, Action games come second. This two genres beat the others by a wide margin."
   ]
  },
  {
   "cell_type": "markdown",
   "id": "11f9234e",
   "metadata": {},
   "source": [
    "### The impact of the ESRB rating on sales in each regions"
   ]
  },
  {
   "cell_type": "code",
   "execution_count": 60,
   "id": "3d57e3ad",
   "metadata": {},
   "outputs": [
    {
     "data": {
      "text/plain": [
       "array(['E', 'unknown', 'M', 'T', 'E10+', 'AO', 'RP'], dtype=object)"
      ]
     },
     "execution_count": 60,
     "metadata": {},
     "output_type": "execute_result"
    }
   ],
   "source": [
    "data['rating'].unique()"
   ]
  },
  {
   "cell_type": "code",
   "execution_count": 61,
   "id": "0ce53c30",
   "metadata": {},
   "outputs": [],
   "source": [
    "esrb_dict = {'E': 'for all ages', 'unknown': 'unknown', 'M': '> 17y', 'T': '> 13y', \n",
    "             'E10+': '> 10y', 'AO': 'adults 18+', 'RP': 'rating pending'}"
   ]
  },
  {
   "cell_type": "code",
   "execution_count": 62,
   "id": "902383f1",
   "metadata": {},
   "outputs": [],
   "source": [
    "# Let's add a new column with an explanation of age rating\n",
    "data_actual['esrb_description'] = data_actual[data_actual['rating'].notnull()]['rating'].map(esrb_dict)"
   ]
  },
  {
   "cell_type": "code",
   "execution_count": 63,
   "id": "144cf021",
   "metadata": {},
   "outputs": [
    {
     "data": {
      "image/png": "[encoded data removed]",
      "text/plain": [
       "<Figure size 1800x432 with 3 Axes>"
      ]
     },
     "metadata": {},
     "output_type": "display_data"
    }
   ],
   "source": [
    "fig, axes = plt.subplots(1, 3, figsize=(25,6))\n",
    "\n",
    "top_in_regions_plot('esrb_description', rot=20)"
   ]
  },
  {
   "cell_type": "markdown",
   "id": "3f1eedf5",
   "metadata": {},
   "source": [
    "The graphs are almost the same in North America and Europe: only 2nd and 3rd have changed places. But in Japan, unrated games are more popular, most likely they prefer their own games, and the ESRB rating does not really have an effect there."
   ]
  },
  {
   "cell_type": "markdown",
   "id": "52454418",
   "metadata": {},
   "source": [
    "**Summary:**\n",
    "\n",
    "In North America and Europe, user portraits are similar in almost every way. There are similar patterns on platforms and on the most popular genres - Action, Shooter and Sports, and on ratings - M (> 17 years old), E (for all ages). But Japanese users have different preferences, the 3DS platform is the most popular among them, as well as games in the Role-playing genre. Rating doesn't really matter to them, most likely they have their own rating system.\n",
    "    \n",
    "My suggestions as to why the preferences in Japan differ from those in North America and Europe are:\n",
    "\n",
    "* Completely different culture.\n",
    "* 3DS is more popular in Japan, probably because it originates from there.\n",
    "* We all know the Japanese love for anime and comics, so it's not surprising that role-playing games are so popular among users in this region."
   ]
  },
  {
   "cell_type": "markdown",
   "id": "31ea81f3",
   "metadata": {},
   "source": [
    "## Hypothesis testing"
   ]
  },
  {
   "cell_type": "markdown",
   "id": "9e39c7ee",
   "metadata": {},
   "source": [
    "* Average user scores for **Xbox One** and **PC** platforms are the same;\n",
    "* Average user scores for **Action** and **Sports** genres are different.\n",
    "\n",
    "To test both hypotheses, we will use Student's t-test because the samples are independent from each other in both cases. Let's define the threshold value alpha = 0.05."
   ]
  },
  {
   "cell_type": "markdown",
   "id": "398eaeea",
   "metadata": {},
   "source": [
    "### Hypothesis 1"
   ]
  },
  {
   "cell_type": "markdown",
   "id": "49f7b020",
   "metadata": {},
   "source": [
    "Average user scores for **Xbox One** and **PC** platforms are the same.\n",
    "\n",
    "**H0 (null hypothesis)** - the average user scores of the Xbox One and PC platforms are the same.\n",
    "\n",
    "**H1 (alternative hypothesis)** - the average user scores of the Xbox One and PC platforms differ from each other."
   ]
  },
  {
   "cell_type": "markdown",
   "id": "e0528939",
   "metadata": {},
   "source": [
    "#### Sampling"
   ]
  },
  {
   "cell_type": "code",
   "execution_count": 64,
   "id": "1df5c373",
   "metadata": {},
   "outputs": [],
   "source": [
    "platforms_hyp = ['xone', 'pc']"
   ]
  },
  {
   "cell_type": "code",
   "execution_count": 65,
   "id": "74313b78",
   "metadata": {},
   "outputs": [],
   "source": [
    "data_actual_filtered = data_actual.query('user_score >= 0 and platform in @platforms_hyp')"
   ]
  },
  {
   "cell_type": "code",
   "execution_count": 66,
   "id": "1902a03a",
   "metadata": {},
   "outputs": [
    {
     "data": {
      "image/png": "[encoded data removed]",
      "text/plain": [
       "<Figure size 864x720 with 1 Axes>"
      ]
     },
     "metadata": {},
     "output_type": "display_data"
    }
   ],
   "source": [
    "plt.figure(figsize=(12,10))\n",
    "ax = sns.boxplot(x='platform', y='user_score', data=data_actual_filtered)\n",
    "plt.title('Boxplots for Xbox One and PC', fontsize=18)\n",
    "plt.ylabel('User scores', fontsize=14)\n",
    "plt.xlabel('', fontsize=14)\n",
    "plt.tick_params(labelsize=14)\n",
    "plt.show()"
   ]
  },
  {
   "cell_type": "code",
   "execution_count": 67,
   "id": "87f59512",
   "metadata": {},
   "outputs": [],
   "source": [
    "data_xone_filtered = data_actual_filtered[(data_actual_filtered['platform']=='xone')]['user_score']\n",
    "data_pc_filtered = data_actual_filtered[(data_actual_filtered['platform']=='pc')]['user_score']"
   ]
  },
  {
   "cell_type": "markdown",
   "id": "bc2f5fb2",
   "metadata": {},
   "source": [
    "#### P-value calculation"
   ]
  },
  {
   "cell_type": "markdown",
   "id": "2ba060ad",
   "metadata": {},
   "source": [
    "We will use the t-test. All requirements of this test are satisfied:\n",
    "\n",
    "* Our samples are independent,\n",
    "* Sample means are normally distributed. This condition is satisfied thanks to the CLT, because the sample size is large enough (at least a few tens of values) and the sample means that can be obtained from the same population will be normally distributed around the true mean of this population.\n",
    "\n",
    "The critical level of statistical significance is taken as 5%."
   ]
  },
  {
   "cell_type": "code",
   "execution_count": 68,
   "id": "5451031a",
   "metadata": {},
   "outputs": [
    {
     "name": "stdout",
     "output_type": "stream",
     "text": [
      "p-value: 0.14012658403611647\n",
      "Failed to reject the null hypothesis\n"
     ]
    }
   ],
   "source": [
    "alpha = .05 # critical level of statistical significance\n",
    "\n",
    "results = st.ttest_ind(\n",
    "    data_xone_filtered, \n",
    "    data_pc_filtered)\n",
    "\n",
    "print('p-value:', results.pvalue)\n",
    "\n",
    "if results.pvalue < alpha:\n",
    "    print(\"Rejecting the null hypothesis\")\n",
    "else:\n",
    "    print(\"Failed to reject the null hypothesis\")"
   ]
  },
  {
   "cell_type": "markdown",
   "id": "d441181a",
   "metadata": {},
   "source": [
    "Thus the average user scores of the Xbox One and PC platforms are the same."
   ]
  },
  {
   "cell_type": "markdown",
   "id": "135c7746",
   "metadata": {},
   "source": [
    "### Hypothesis 2"
   ]
  },
  {
   "cell_type": "markdown",
   "id": "24910c59",
   "metadata": {},
   "source": [
    "Average user scores for **Action** and **Sports** genres are different.\n",
    "\n",
    "**H0 (null hypothesis)** - the average user scores of the Action and Sports genres are the same.\n",
    "\n",
    "**H1 (alternative hypothesis)** - the average user scores of Action and Sports genres differ from each other."
   ]
  },
  {
   "cell_type": "markdown",
   "id": "0d95f31e",
   "metadata": {},
   "source": [
    "#### Sampling"
   ]
  },
  {
   "cell_type": "code",
   "execution_count": 69,
   "id": "a5c69fc7",
   "metadata": {},
   "outputs": [],
   "source": [
    "genres_hyp = ['action', 'sports']"
   ]
  },
  {
   "cell_type": "code",
   "execution_count": 70,
   "id": "89bf06df",
   "metadata": {},
   "outputs": [],
   "source": [
    "data_actual_filtered = data_actual.query('user_score >= 0 and genre in @genres_hyp')"
   ]
  },
  {
   "cell_type": "code",
   "execution_count": 71,
   "id": "be22077e",
   "metadata": {
    "scrolled": false
   },
   "outputs": [
    {
     "data": {
      "image/png": "[encoded data removed]",
      "text/plain": [
       "<Figure size 864x720 with 1 Axes>"
      ]
     },
     "metadata": {},
     "output_type": "display_data"
    }
   ],
   "source": [
    "plt.figure(figsize=(12,10))\n",
    "ax = sns.boxplot(x='genre', y='user_score', data=data_actual_filtered)\n",
    "plt.title('Boxplots for Action and Sports genres', fontsize=18)\n",
    "plt.ylabel('User scores', fontsize=14)\n",
    "plt.xlabel('', fontsize=14)\n",
    "plt.tick_params(labelsize=14)\n",
    "plt.show()"
   ]
  },
  {
   "cell_type": "code",
   "execution_count": 72,
   "id": "f2ca6428",
   "metadata": {},
   "outputs": [],
   "source": [
    "data_action_filtered = data_actual_filtered[(data_actual_filtered['genre']=='action')]['user_score']\n",
    "data_sports_filtered = data_actual_filtered[(data_actual_filtered['genre']=='sports')]['user_score']"
   ]
  },
  {
   "cell_type": "markdown",
   "id": "2265a5a9",
   "metadata": {},
   "source": [
    "#### P-value calculation"
   ]
  },
  {
   "cell_type": "markdown",
   "id": "20c4a120",
   "metadata": {},
   "source": [
    "We will use the t-test. All requirements of this test are satisfied as in the previous hypothesis."
   ]
  },
  {
   "cell_type": "code",
   "execution_count": 73,
   "id": "981c28ca",
   "metadata": {},
   "outputs": [
    {
     "name": "stdout",
     "output_type": "stream",
     "text": [
      "p-value: 1.0517832389140023e-27\n",
      "Rejecting the null hypothesis\n"
     ]
    }
   ],
   "source": [
    "alpha = .05 # critical level of statistical significance\n",
    "\n",
    "results = st.ttest_ind(\n",
    "    data_action_filtered, \n",
    "    data_sports_filtered)\n",
    "\n",
    "print('p-value:', results.pvalue)\n",
    "\n",
    "if results.pvalue < alpha:\n",
    "    print(\"Rejecting the null hypothesis\")\n",
    "else:\n",
    "    print(\"Failed to reject the null hypothesis\")"
   ]
  },
  {
   "cell_type": "markdown",
   "id": "8dcde1d7",
   "metadata": {},
   "source": [
    "Thus the average user scores of the Action and Sports genres are different."
   ]
  },
  {
   "cell_type": "markdown",
   "id": "70e28d58",
   "metadata": {},
   "source": [
    "## General conclusion"
   ]
  },
  {
   "cell_type": "markdown",
   "id": "c4f01c51",
   "metadata": {},
   "source": [
    "* An average platform lives 10 years, and would have lived longer if newer ones had not come out, but this is inevitable because the progress is moving forward and the hardware in older platforms no longer meets the technical requirements of new games. On average a platform loses its relevance in 10 years.\n",
    "\n",
    "* The critic scores have the strongest influence on the global sales in most cases.\n",
    "\n",
    "* The Shooter genre seems to be the most attractive, every game of this genre sells quite well.\n",
    "\n",
    "* In North America and Europe, user portraits are similar in almost every way. There are similar patterns on platforms and on the most popular genres - Action, Shooter and Sports, and on ratings - M (> 17 years old), E (for all ages). But Japanese users have different preferences, the 3DS platform is the most popular among them, as well as games in the Role-playing genre. Rating doesn't really matter to them, most likely they have their own rating system."
   ]
  },
  {
   "cell_type": "markdown",
   "id": "f1b5ce70",
   "metadata": {},
   "source": [
    "**Recommendations:**\n",
    "\n",
    "* When the user enters the online store for the first time, ask for which platform he is looking for games and offer games for his platform.\n",
    "\n",
    "* Based on the user's IP address, offer games from genres that are popular in his country. For example, if a user from Japan has logged in, offer them more Role-playing games, because. They are more likely to buy a game with that genre.\n",
    "\n",
    "* Offer discounts for old and not popular games, this will help increase the sale of unpopular games.\n",
    "\n",
    "* Ask users to leave reviews and give them rewards for it.\n",
    "\n",
    "* Improve the site by adding links to critic reviews from popular game review sites."
   ]
  },
  {
   "cell_type": "code",
   "execution_count": null,
   "id": "d6ff3e7a",
   "metadata": {},
   "outputs": [],
   "source": []
  }
 ],
 "metadata": {
  "ExecuteTimeLog": [
   {
    "duration": 1158,
    "start_time": "2022-08-04T11:05:02.662Z"
   },
   {
    "duration": 65,
    "start_time": "2022-08-04T11:05:03.822Z"
   },
   {
    "duration": 446,
    "start_time": "2022-08-04T11:05:03.888Z"
   },
   {
    "duration": 13,
    "start_time": "2022-08-04T11:05:04.336Z"
   },
   {
    "duration": 17,
    "start_time": "2022-08-04T11:05:04.350Z"
   },
   {
    "duration": 6,
    "start_time": "2022-08-04T11:05:04.369Z"
   },
   {
    "duration": 10,
    "start_time": "2022-08-04T11:05:04.377Z"
   },
   {
    "duration": 4,
    "start_time": "2022-08-04T11:05:04.388Z"
   },
   {
    "duration": 7,
    "start_time": "2022-08-04T11:05:04.394Z"
   },
   {
    "duration": 3,
    "start_time": "2022-08-04T11:05:04.404Z"
   },
   {
    "duration": 14,
    "start_time": "2022-08-04T11:05:04.409Z"
   },
   {
    "duration": 39,
    "start_time": "2022-08-04T11:05:04.424Z"
   },
   {
    "duration": 7,
    "start_time": "2022-08-04T11:05:04.465Z"
   },
   {
    "duration": 12,
    "start_time": "2022-08-04T11:05:04.473Z"
   },
   {
    "duration": 12,
    "start_time": "2022-08-04T11:05:04.486Z"
   },
   {
    "duration": 9,
    "start_time": "2022-08-04T11:05:04.499Z"
   },
   {
    "duration": 4,
    "start_time": "2022-08-04T11:05:04.510Z"
   },
   {
    "duration": 43,
    "start_time": "2022-08-04T11:05:04.515Z"
   },
   {
    "duration": 6,
    "start_time": "2022-08-04T11:05:04.559Z"
   },
   {
    "duration": 6,
    "start_time": "2022-08-04T11:05:04.566Z"
   },
   {
    "duration": 3,
    "start_time": "2022-08-04T11:05:04.573Z"
   },
   {
    "duration": 14,
    "start_time": "2022-08-04T11:05:04.577Z"
   },
   {
    "duration": 6,
    "start_time": "2022-08-04T11:05:04.592Z"
   },
   {
    "duration": 13,
    "start_time": "2022-08-04T11:05:04.599Z"
   },
   {
    "duration": 42,
    "start_time": "2022-08-04T11:05:04.613Z"
   },
   {
    "duration": 27,
    "start_time": "2022-08-04T11:05:04.656Z"
   },
   {
    "duration": 27,
    "start_time": "2022-08-04T11:05:04.685Z"
   },
   {
    "duration": 9,
    "start_time": "2022-08-04T11:05:04.716Z"
   },
   {
    "duration": 28,
    "start_time": "2022-08-04T11:05:04.727Z"
   },
   {
    "duration": 14,
    "start_time": "2022-08-04T11:05:04.757Z"
   },
   {
    "duration": 5,
    "start_time": "2022-08-04T11:05:04.772Z"
   },
   {
    "duration": 320,
    "start_time": "2022-08-04T11:05:04.778Z"
   },
   {
    "duration": 244,
    "start_time": "2022-08-04T11:05:05.100Z"
   },
   {
    "duration": 12,
    "start_time": "2022-08-04T11:05:05.346Z"
   },
   {
    "duration": 2,
    "start_time": "2022-08-04T11:05:05.359Z"
   },
   {
    "duration": 5,
    "start_time": "2022-08-04T11:05:05.363Z"
   },
   {
    "duration": 301,
    "start_time": "2022-08-04T11:05:05.369Z"
   },
   {
    "duration": 436,
    "start_time": "2022-08-04T11:05:05.671Z"
   },
   {
    "duration": 7,
    "start_time": "2022-08-04T11:05:06.109Z"
   },
   {
    "duration": 13,
    "start_time": "2022-08-04T11:05:06.118Z"
   },
   {
    "duration": 4,
    "start_time": "2022-08-04T11:05:06.132Z"
   },
   {
    "duration": 7,
    "start_time": "2022-08-04T11:05:06.137Z"
   },
   {
    "duration": 114,
    "start_time": "2022-08-04T11:05:06.145Z"
   },
   {
    "duration": 306,
    "start_time": "2022-08-04T11:05:06.261Z"
   },
   {
    "duration": 6,
    "start_time": "2022-08-04T11:05:06.569Z"
   },
   {
    "duration": 119,
    "start_time": "2022-08-04T11:05:06.577Z"
   },
   {
    "duration": 7,
    "start_time": "2022-08-04T11:05:06.697Z"
   },
   {
    "duration": 150,
    "start_time": "2022-08-04T11:05:06.706Z"
   },
   {
    "duration": 6,
    "start_time": "2022-08-04T11:05:06.858Z"
   },
   {
    "duration": 7,
    "start_time": "2022-08-04T11:05:06.865Z"
   },
   {
    "duration": 252,
    "start_time": "2022-08-04T11:05:06.873Z"
   },
   {
    "duration": 1612,
    "start_time": "2022-08-04T11:05:07.126Z"
   },
   {
    "duration": 226,
    "start_time": "2022-08-04T11:05:08.740Z"
   },
   {
    "duration": 4,
    "start_time": "2022-08-04T11:05:08.968Z"
   },
   {
    "duration": 376,
    "start_time": "2022-08-04T11:05:08.974Z"
   },
   {
    "duration": 5,
    "start_time": "2022-08-04T11:05:09.354Z"
   },
   {
    "duration": 390,
    "start_time": "2022-08-04T11:05:09.360Z"
   },
   {
    "duration": 390,
    "start_time": "2022-08-04T11:05:09.752Z"
   },
   {
    "duration": 4,
    "start_time": "2022-08-04T11:05:10.143Z"
   },
   {
    "duration": 28,
    "start_time": "2022-08-04T11:05:10.148Z"
   },
   {
    "duration": 26,
    "start_time": "2022-08-04T11:05:10.177Z"
   },
   {
    "duration": 387,
    "start_time": "2022-08-04T11:05:10.204Z"
   },
   {
    "duration": 4,
    "start_time": "2022-08-04T11:05:10.592Z"
   },
   {
    "duration": 17,
    "start_time": "2022-08-04T11:05:10.597Z"
   },
   {
    "duration": 16,
    "start_time": "2022-08-04T11:05:10.615Z"
   },
   {
    "duration": 133,
    "start_time": "2022-08-04T11:05:10.632Z"
   },
   {
    "duration": 10,
    "start_time": "2022-08-04T11:05:10.766Z"
   },
   {
    "duration": 11,
    "start_time": "2022-08-04T11:05:10.777Z"
   },
   {
    "duration": 16,
    "start_time": "2022-08-04T11:05:10.789Z"
   },
   {
    "duration": 17,
    "start_time": "2022-08-04T11:05:10.806Z"
   },
   {
    "duration": 20,
    "start_time": "2022-08-04T11:05:10.824Z"
   },
   {
    "duration": 18,
    "start_time": "2022-08-04T11:05:10.846Z"
   },
   {
    "duration": 131,
    "start_time": "2022-08-04T11:05:10.865Z"
   },
   {
    "duration": 12,
    "start_time": "2022-08-04T11:05:10.998Z"
   },
   {
    "duration": 13,
    "start_time": "2022-08-04T11:05:11.012Z"
   },
   {
    "duration": 12,
    "start_time": "2022-08-04T11:05:11.026Z"
   },
   {
    "duration": 18,
    "start_time": "2022-08-04T11:05:11.040Z"
   },
   {
    "duration": 137,
    "start_time": "2022-08-04T11:26:37.001Z"
   },
   {
    "duration": 135,
    "start_time": "2022-08-04T11:27:03.482Z"
   },
   {
    "duration": 145,
    "start_time": "2022-08-04T11:27:35.560Z"
   },
   {
    "duration": 237,
    "start_time": "2022-08-04T11:27:46.421Z"
   },
   {
    "duration": 148,
    "start_time": "2022-08-04T11:27:59.515Z"
   },
   {
    "duration": 151,
    "start_time": "2022-08-04T11:28:05.601Z"
   },
   {
    "duration": 54,
    "start_time": "2022-08-04T14:50:27.187Z"
   },
   {
    "duration": 1256,
    "start_time": "2022-08-04T14:50:43.037Z"
   },
   {
    "duration": 34,
    "start_time": "2022-08-04T14:50:44.295Z"
   },
   {
    "duration": 83,
    "start_time": "2022-08-04T14:50:44.330Z"
   },
   {
    "duration": 14,
    "start_time": "2022-08-04T14:50:44.414Z"
   },
   {
    "duration": 16,
    "start_time": "2022-08-04T14:50:44.429Z"
   },
   {
    "duration": 7,
    "start_time": "2022-08-04T14:50:44.447Z"
   },
   {
    "duration": 10,
    "start_time": "2022-08-04T14:50:44.456Z"
   },
   {
    "duration": 9,
    "start_time": "2022-08-04T14:50:53.818Z"
   },
   {
    "duration": 47,
    "start_time": "2022-08-04T14:52:34.648Z"
   },
   {
    "duration": 3,
    "start_time": "2022-08-04T14:55:17.701Z"
   },
   {
    "duration": 74,
    "start_time": "2022-08-04T14:55:17.706Z"
   },
   {
    "duration": 43,
    "start_time": "2022-08-04T14:55:17.782Z"
   },
   {
    "duration": 15,
    "start_time": "2022-08-04T14:55:17.827Z"
   },
   {
    "duration": 16,
    "start_time": "2022-08-04T14:55:17.844Z"
   },
   {
    "duration": 16,
    "start_time": "2022-08-04T14:55:17.862Z"
   },
   {
    "duration": 10,
    "start_time": "2022-08-04T14:55:17.880Z"
   },
   {
    "duration": 14,
    "start_time": "2022-08-04T14:55:17.910Z"
   },
   {
    "duration": 7,
    "start_time": "2022-08-04T14:55:17.926Z"
   },
   {
    "duration": 11,
    "start_time": "2022-08-04T14:55:17.935Z"
   },
   {
    "duration": 5,
    "start_time": "2022-08-04T14:55:17.948Z"
   },
   {
    "duration": 30,
    "start_time": "2022-08-04T14:55:17.955Z"
   },
   {
    "duration": 10,
    "start_time": "2022-08-04T14:55:18.011Z"
   },
   {
    "duration": 5,
    "start_time": "2022-08-04T14:55:18.024Z"
   },
   {
    "duration": 16,
    "start_time": "2022-08-04T14:55:18.031Z"
   },
   {
    "duration": 12,
    "start_time": "2022-08-04T14:55:18.048Z"
   },
   {
    "duration": 9,
    "start_time": "2022-08-04T14:55:18.062Z"
   },
   {
    "duration": 41,
    "start_time": "2022-08-04T14:55:18.073Z"
   },
   {
    "duration": 7,
    "start_time": "2022-08-04T14:55:18.116Z"
   },
   {
    "duration": 10,
    "start_time": "2022-08-04T14:55:18.124Z"
   },
   {
    "duration": 9,
    "start_time": "2022-08-04T14:55:18.136Z"
   },
   {
    "duration": 5,
    "start_time": "2022-08-04T14:55:18.147Z"
   },
   {
    "duration": 16,
    "start_time": "2022-08-04T14:55:18.153Z"
   },
   {
    "duration": 6,
    "start_time": "2022-08-04T14:55:18.171Z"
   },
   {
    "duration": 32,
    "start_time": "2022-08-04T14:55:18.179Z"
   },
   {
    "duration": 15,
    "start_time": "2022-08-04T14:55:18.212Z"
   },
   {
    "duration": 28,
    "start_time": "2022-08-04T14:55:18.229Z"
   },
   {
    "duration": 20,
    "start_time": "2022-08-04T14:55:18.259Z"
   },
   {
    "duration": 36,
    "start_time": "2022-08-04T14:55:18.281Z"
   },
   {
    "duration": 12,
    "start_time": "2022-08-04T14:55:18.318Z"
   },
   {
    "duration": 14,
    "start_time": "2022-08-04T14:55:18.331Z"
   },
   {
    "duration": 16,
    "start_time": "2022-08-04T14:55:18.346Z"
   },
   {
    "duration": 317,
    "start_time": "2022-08-04T14:55:18.364Z"
   },
   {
    "duration": 269,
    "start_time": "2022-08-04T14:55:18.683Z"
   },
   {
    "duration": 12,
    "start_time": "2022-08-04T14:55:18.954Z"
   },
   {
    "duration": 29,
    "start_time": "2022-08-04T14:55:18.967Z"
   },
   {
    "duration": 10,
    "start_time": "2022-08-04T14:58:31.019Z"
   },
   {
    "duration": 1100,
    "start_time": "2022-08-04T14:58:55.528Z"
   },
   {
    "duration": 39,
    "start_time": "2022-08-04T14:58:56.630Z"
   },
   {
    "duration": 44,
    "start_time": "2022-08-04T14:58:56.670Z"
   },
   {
    "duration": 15,
    "start_time": "2022-08-04T14:58:56.716Z"
   },
   {
    "duration": 21,
    "start_time": "2022-08-04T14:58:56.733Z"
   },
   {
    "duration": 16,
    "start_time": "2022-08-04T14:58:56.755Z"
   },
   {
    "duration": 14,
    "start_time": "2022-08-04T14:58:56.774Z"
   },
   {
    "duration": 10,
    "start_time": "2022-08-04T14:59:04.348Z"
   },
   {
    "duration": 3,
    "start_time": "2022-08-04T15:02:19.669Z"
   },
   {
    "duration": 48,
    "start_time": "2022-08-04T15:02:19.674Z"
   },
   {
    "duration": 52,
    "start_time": "2022-08-04T15:02:19.724Z"
   },
   {
    "duration": 12,
    "start_time": "2022-08-04T15:02:19.778Z"
   },
   {
    "duration": 17,
    "start_time": "2022-08-04T15:02:19.792Z"
   },
   {
    "duration": 27,
    "start_time": "2022-08-04T15:02:19.811Z"
   },
   {
    "duration": 15,
    "start_time": "2022-08-04T15:02:19.840Z"
   },
   {
    "duration": 10,
    "start_time": "2022-08-04T15:02:19.857Z"
   },
   {
    "duration": 5,
    "start_time": "2022-08-04T15:02:19.869Z"
   },
   {
    "duration": 7,
    "start_time": "2022-08-04T15:02:19.875Z"
   },
   {
    "duration": 5,
    "start_time": "2022-08-04T15:02:19.883Z"
   },
   {
    "duration": 13,
    "start_time": "2022-08-04T15:02:37.704Z"
   },
   {
    "duration": 17,
    "start_time": "2022-08-04T15:02:41.469Z"
   },
   {
    "duration": 6,
    "start_time": "2022-08-04T15:02:45.049Z"
   },
   {
    "duration": 12,
    "start_time": "2022-08-04T15:02:47.320Z"
   },
   {
    "duration": 12,
    "start_time": "2022-08-04T15:02:49.520Z"
   },
   {
    "duration": 9,
    "start_time": "2022-08-04T15:02:52.369Z"
   },
   {
    "duration": 5,
    "start_time": "2022-08-04T15:03:09.416Z"
   },
   {
    "duration": 8,
    "start_time": "2022-08-04T15:03:13.749Z"
   },
   {
    "duration": 7,
    "start_time": "2022-08-04T15:03:24.734Z"
   },
   {
    "duration": 7,
    "start_time": "2022-08-04T15:03:38.194Z"
   },
   {
    "duration": 4,
    "start_time": "2022-08-04T15:03:41.916Z"
   },
   {
    "duration": 16,
    "start_time": "2022-08-04T15:03:49.469Z"
   },
   {
    "duration": 5,
    "start_time": "2022-08-04T15:04:31.329Z"
   },
   {
    "duration": 1149,
    "start_time": "2022-08-04T15:07:01.933Z"
   },
   {
    "duration": 39,
    "start_time": "2022-08-04T15:07:03.084Z"
   },
   {
    "duration": 43,
    "start_time": "2022-08-04T15:07:03.125Z"
   },
   {
    "duration": 14,
    "start_time": "2022-08-04T15:07:03.169Z"
   },
   {
    "duration": 18,
    "start_time": "2022-08-04T15:07:03.185Z"
   },
   {
    "duration": 8,
    "start_time": "2022-08-04T15:07:03.204Z"
   },
   {
    "duration": 13,
    "start_time": "2022-08-04T15:07:03.214Z"
   },
   {
    "duration": 9,
    "start_time": "2022-08-04T15:07:03.228Z"
   },
   {
    "duration": 9,
    "start_time": "2022-08-04T15:07:03.238Z"
   },
   {
    "duration": 9,
    "start_time": "2022-08-04T15:07:03.248Z"
   },
   {
    "duration": 7,
    "start_time": "2022-08-04T15:07:03.258Z"
   },
   {
    "duration": 12,
    "start_time": "2022-08-04T15:08:08.656Z"
   },
   {
    "duration": 11,
    "start_time": "2022-08-04T15:08:17.293Z"
   },
   {
    "duration": 6,
    "start_time": "2022-08-04T15:08:21.358Z"
   },
   {
    "duration": 15,
    "start_time": "2022-08-04T15:08:22.533Z"
   },
   {
    "duration": 17,
    "start_time": "2022-08-04T15:08:35.533Z"
   },
   {
    "duration": 6,
    "start_time": "2022-08-04T15:08:43.433Z"
   },
   {
    "duration": 17,
    "start_time": "2022-08-04T15:08:56.153Z"
   },
   {
    "duration": 6,
    "start_time": "2022-08-04T15:08:59.533Z"
   },
   {
    "duration": 6,
    "start_time": "2022-08-04T15:09:03.417Z"
   },
   {
    "duration": 6,
    "start_time": "2022-08-04T15:09:06.594Z"
   },
   {
    "duration": 7,
    "start_time": "2022-08-04T15:09:08.817Z"
   },
   {
    "duration": 3,
    "start_time": "2022-08-04T15:09:10.920Z"
   },
   {
    "duration": 13,
    "start_time": "2022-08-04T15:09:21.553Z"
   },
   {
    "duration": 10,
    "start_time": "2022-08-04T15:09:24.253Z"
   },
   {
    "duration": 12,
    "start_time": "2022-08-04T15:09:49.798Z"
   },
   {
    "duration": 15,
    "start_time": "2022-08-04T15:09:56.398Z"
   },
   {
    "duration": 29,
    "start_time": "2022-08-04T15:11:36.823Z"
   },
   {
    "duration": 22,
    "start_time": "2022-08-04T15:11:41.038Z"
   },
   {
    "duration": 13,
    "start_time": "2022-08-04T15:11:52.233Z"
   },
   {
    "duration": 13,
    "start_time": "2022-08-04T15:11:53.152Z"
   },
   {
    "duration": 14,
    "start_time": "2022-08-04T15:11:57.733Z"
   },
   {
    "duration": 6,
    "start_time": "2022-08-04T15:12:16.693Z"
   },
   {
    "duration": 291,
    "start_time": "2022-08-04T15:12:24.553Z"
   },
   {
    "duration": 260,
    "start_time": "2022-08-04T15:12:59.339Z"
   },
   {
    "duration": 13,
    "start_time": "2022-08-04T15:13:05.193Z"
   },
   {
    "duration": 4,
    "start_time": "2022-08-04T15:13:08.433Z"
   },
   {
    "duration": 6,
    "start_time": "2022-08-04T15:13:16.533Z"
   },
   {
    "duration": 334,
    "start_time": "2022-08-04T15:13:31.517Z"
   },
   {
    "duration": 6,
    "start_time": "2022-08-04T15:15:29.699Z"
   },
   {
    "duration": 386,
    "start_time": "2022-08-04T15:15:31.629Z"
   },
   {
    "duration": 536,
    "start_time": "2022-08-04T15:19:13.178Z"
   },
   {
    "duration": 9,
    "start_time": "2022-08-04T15:19:21.454Z"
   },
   {
    "duration": 26,
    "start_time": "2022-08-04T15:19:21.465Z"
   },
   {
    "duration": 18,
    "start_time": "2022-08-04T15:19:21.494Z"
   },
   {
    "duration": 75,
    "start_time": "2022-08-04T15:19:21.514Z"
   },
   {
    "duration": 153,
    "start_time": "2022-08-04T15:19:21.592Z"
   },
   {
    "duration": 271,
    "start_time": "2022-08-04T15:19:21.747Z"
   },
   {
    "duration": 6,
    "start_time": "2022-08-04T15:19:22.020Z"
   },
   {
    "duration": 136,
    "start_time": "2022-08-04T15:19:22.027Z"
   },
   {
    "duration": 6,
    "start_time": "2022-08-04T15:19:22.165Z"
   },
   {
    "duration": 128,
    "start_time": "2022-08-04T15:19:22.172Z"
   },
   {
    "duration": 13,
    "start_time": "2022-08-04T15:19:22.302Z"
   },
   {
    "duration": 9,
    "start_time": "2022-08-04T15:19:22.316Z"
   },
   {
    "duration": 239,
    "start_time": "2022-08-04T15:19:22.327Z"
   },
   {
    "duration": 1708,
    "start_time": "2022-08-04T15:19:22.570Z"
   },
   {
    "duration": 244,
    "start_time": "2022-08-04T15:19:24.280Z"
   },
   {
    "duration": 5,
    "start_time": "2022-08-04T15:19:24.525Z"
   },
   {
    "duration": 401,
    "start_time": "2022-08-04T15:19:24.532Z"
   },
   {
    "duration": 6,
    "start_time": "2022-08-04T15:19:24.935Z"
   },
   {
    "duration": 443,
    "start_time": "2022-08-04T15:19:24.943Z"
   },
   {
    "duration": 442,
    "start_time": "2022-08-04T15:19:25.388Z"
   },
   {
    "duration": 6,
    "start_time": "2022-08-04T15:19:25.832Z"
   },
   {
    "duration": 5,
    "start_time": "2022-08-04T15:19:25.840Z"
   },
   {
    "duration": 15,
    "start_time": "2022-08-04T15:19:25.846Z"
   },
   {
    "duration": 434,
    "start_time": "2022-08-04T15:19:25.863Z"
   },
   {
    "duration": 4,
    "start_time": "2022-08-04T15:19:26.299Z"
   },
   {
    "duration": 11,
    "start_time": "2022-08-04T15:19:26.310Z"
   },
   {
    "duration": 17,
    "start_time": "2022-08-04T15:19:26.323Z"
   },
   {
    "duration": 153,
    "start_time": "2022-08-04T15:19:26.342Z"
   },
   {
    "duration": 20,
    "start_time": "2022-08-04T15:19:26.497Z"
   },
   {
    "duration": 8,
    "start_time": "2022-08-04T15:19:26.518Z"
   },
   {
    "duration": 8,
    "start_time": "2022-08-04T15:19:26.528Z"
   },
   {
    "duration": 7,
    "start_time": "2022-08-04T15:19:26.538Z"
   },
   {
    "duration": 5,
    "start_time": "2022-08-04T15:19:26.547Z"
   },
   {
    "duration": 10,
    "start_time": "2022-08-04T15:19:26.554Z"
   },
   {
    "duration": 191,
    "start_time": "2022-08-04T15:19:26.567Z"
   },
   {
    "duration": 16,
    "start_time": "2022-08-04T15:19:26.760Z"
   },
   {
    "duration": 9,
    "start_time": "2022-08-04T15:19:26.779Z"
   },
   {
    "duration": 25,
    "start_time": "2022-08-04T15:19:26.790Z"
   },
   {
    "duration": 6,
    "start_time": "2022-08-04T15:19:26.817Z"
   },
   {
    "duration": 436,
    "start_time": "2022-08-04T15:22:17.778Z"
   },
   {
    "duration": 531,
    "start_time": "2022-08-04T15:25:26.133Z"
   },
   {
    "duration": 530,
    "start_time": "2022-08-04T15:25:47.439Z"
   },
   {
    "duration": 1040,
    "start_time": "2022-08-04T15:26:03.862Z"
   },
   {
    "duration": 39,
    "start_time": "2022-08-04T15:26:04.904Z"
   },
   {
    "duration": 46,
    "start_time": "2022-08-04T15:26:04.944Z"
   },
   {
    "duration": 15,
    "start_time": "2022-08-04T15:26:04.991Z"
   },
   {
    "duration": 18,
    "start_time": "2022-08-04T15:26:05.009Z"
   },
   {
    "duration": 19,
    "start_time": "2022-08-04T15:26:05.029Z"
   },
   {
    "duration": 12,
    "start_time": "2022-08-04T15:26:05.050Z"
   },
   {
    "duration": 11,
    "start_time": "2022-08-04T15:26:05.063Z"
   },
   {
    "duration": 8,
    "start_time": "2022-08-04T15:26:05.076Z"
   },
   {
    "duration": 26,
    "start_time": "2022-08-04T15:26:05.086Z"
   },
   {
    "duration": 4,
    "start_time": "2022-08-04T15:26:05.114Z"
   },
   {
    "duration": 16,
    "start_time": "2022-08-04T15:26:05.120Z"
   },
   {
    "duration": 13,
    "start_time": "2022-08-04T15:26:05.138Z"
   },
   {
    "duration": 6,
    "start_time": "2022-08-04T15:26:05.154Z"
   },
   {
    "duration": 50,
    "start_time": "2022-08-04T15:26:05.162Z"
   },
   {
    "duration": 13,
    "start_time": "2022-08-04T15:26:05.213Z"
   },
   {
    "duration": 5,
    "start_time": "2022-08-04T15:26:05.228Z"
   },
   {
    "duration": 29,
    "start_time": "2022-08-04T15:26:05.235Z"
   },
   {
    "duration": 5,
    "start_time": "2022-08-04T15:26:05.266Z"
   },
   {
    "duration": 11,
    "start_time": "2022-08-04T15:26:05.273Z"
   },
   {
    "duration": 28,
    "start_time": "2022-08-04T15:26:05.286Z"
   },
   {
    "duration": 7,
    "start_time": "2022-08-04T15:26:05.316Z"
   },
   {
    "duration": 6,
    "start_time": "2022-08-04T15:26:05.324Z"
   },
   {
    "duration": 25,
    "start_time": "2022-08-04T15:26:05.331Z"
   },
   {
    "duration": 7,
    "start_time": "2022-08-04T15:26:05.358Z"
   },
   {
    "duration": 21,
    "start_time": "2022-08-04T15:26:05.366Z"
   },
   {
    "duration": 40,
    "start_time": "2022-08-04T15:26:05.389Z"
   },
   {
    "duration": 49,
    "start_time": "2022-08-04T15:26:05.431Z"
   },
   {
    "duration": 47,
    "start_time": "2022-08-04T15:26:05.482Z"
   },
   {
    "duration": 18,
    "start_time": "2022-08-04T15:26:05.531Z"
   },
   {
    "duration": 12,
    "start_time": "2022-08-04T15:26:05.551Z"
   },
   {
    "duration": 15,
    "start_time": "2022-08-04T15:26:05.564Z"
   },
   {
    "duration": 31,
    "start_time": "2022-08-04T15:26:05.580Z"
   },
   {
    "duration": 321,
    "start_time": "2022-08-04T15:26:05.613Z"
   },
   {
    "duration": 267,
    "start_time": "2022-08-04T15:26:05.936Z"
   },
   {
    "duration": 12,
    "start_time": "2022-08-04T15:26:06.204Z"
   },
   {
    "duration": 2,
    "start_time": "2022-08-04T15:26:06.218Z"
   },
   {
    "duration": 6,
    "start_time": "2022-08-04T15:26:06.222Z"
   },
   {
    "duration": 435,
    "start_time": "2022-08-04T15:26:06.230Z"
   },
   {
    "duration": 497,
    "start_time": "2022-08-04T15:26:06.667Z"
   },
   {
    "duration": 386,
    "start_time": "2022-08-04T15:26:18.223Z"
   },
   {
    "duration": 9,
    "start_time": "2022-08-04T15:29:55.425Z"
   },
   {
    "duration": 12,
    "start_time": "2022-08-04T15:30:05.644Z"
   },
   {
    "duration": 3,
    "start_time": "2022-08-04T15:30:10.365Z"
   },
   {
    "duration": 5,
    "start_time": "2022-08-04T15:30:11.360Z"
   },
   {
    "duration": 259,
    "start_time": "2022-08-04T15:30:13.933Z"
   },
   {
    "duration": 348,
    "start_time": "2022-08-04T15:30:21.020Z"
   },
   {
    "duration": 7,
    "start_time": "2022-08-04T15:46:26.500Z"
   },
   {
    "duration": 135,
    "start_time": "2022-08-04T15:46:30.800Z"
   },
   {
    "duration": 6,
    "start_time": "2022-08-04T15:46:33.740Z"
   },
   {
    "duration": 8,
    "start_time": "2022-08-04T15:47:33.724Z"
   },
   {
    "duration": 11,
    "start_time": "2022-08-04T15:47:37.145Z"
   },
   {
    "duration": 3,
    "start_time": "2022-08-04T15:47:56.786Z"
   },
   {
    "duration": 6,
    "start_time": "2022-08-04T15:48:08.660Z"
   },
   {
    "duration": 131,
    "start_time": "2022-08-04T15:48:17.145Z"
   },
   {
    "duration": 262,
    "start_time": "2022-08-04T15:48:47.740Z"
   },
   {
    "duration": 11,
    "start_time": "2022-08-04T15:50:55.532Z"
   },
   {
    "duration": 6,
    "start_time": "2022-08-04T16:25:51.649Z"
   },
   {
    "duration": 121,
    "start_time": "2022-08-04T16:26:23.248Z"
   },
   {
    "duration": 8,
    "start_time": "2022-08-04T16:26:51.239Z"
   },
   {
    "duration": 152,
    "start_time": "2022-08-04T16:27:12.329Z"
   },
   {
    "duration": 6,
    "start_time": "2022-08-04T16:29:38.872Z"
   },
   {
    "duration": 139,
    "start_time": "2022-08-04T16:29:43.939Z"
   },
   {
    "duration": 7,
    "start_time": "2022-08-04T16:30:23.632Z"
   },
   {
    "duration": 5,
    "start_time": "2022-08-04T16:31:02.538Z"
   },
   {
    "duration": 7,
    "start_time": "2022-08-04T16:31:10.182Z"
   },
   {
    "duration": 8,
    "start_time": "2022-08-04T16:31:16.193Z"
   },
   {
    "duration": 108,
    "start_time": "2022-08-04T16:31:47.752Z"
   },
   {
    "duration": 6,
    "start_time": "2022-08-04T16:31:52.192Z"
   },
   {
    "duration": 8,
    "start_time": "2022-08-04T16:32:41.024Z"
   },
   {
    "duration": 8,
    "start_time": "2022-08-04T16:32:47.554Z"
   },
   {
    "duration": 5,
    "start_time": "2022-08-04T16:32:55.043Z"
   },
   {
    "duration": 8,
    "start_time": "2022-08-04T16:33:34.281Z"
   },
   {
    "duration": 10,
    "start_time": "2022-08-04T16:33:45.532Z"
   },
   {
    "duration": 6,
    "start_time": "2022-08-04T16:34:32.325Z"
   },
   {
    "duration": 16,
    "start_time": "2022-08-04T16:35:11.226Z"
   },
   {
    "duration": 12,
    "start_time": "2022-08-04T16:37:35.733Z"
   },
   {
    "duration": 26,
    "start_time": "2022-08-04T16:37:55.553Z"
   },
   {
    "duration": 48,
    "start_time": "2022-08-04T16:38:46.024Z"
   },
   {
    "duration": 67,
    "start_time": "2022-08-04T16:38:52.548Z"
   },
   {
    "duration": 27,
    "start_time": "2022-08-04T16:39:01.428Z"
   },
   {
    "duration": 25,
    "start_time": "2022-08-04T16:40:29.234Z"
   },
   {
    "duration": 6,
    "start_time": "2022-08-04T16:49:07.233Z"
   },
   {
    "duration": 3,
    "start_time": "2022-08-04T16:49:11.726Z"
   },
   {
    "duration": 6,
    "start_time": "2022-08-04T16:49:24.732Z"
   },
   {
    "duration": 4,
    "start_time": "2022-08-04T16:49:27.283Z"
   },
   {
    "duration": 6,
    "start_time": "2022-08-04T16:49:32.625Z"
   },
   {
    "duration": 225,
    "start_time": "2022-08-04T16:49:41.626Z"
   },
   {
    "duration": 1093,
    "start_time": "2022-08-05T18:36:59.309Z"
   },
   {
    "duration": 56,
    "start_time": "2022-08-05T18:37:00.404Z"
   },
   {
    "duration": 85,
    "start_time": "2022-08-05T18:37:00.462Z"
   },
   {
    "duration": 15,
    "start_time": "2022-08-05T18:37:00.549Z"
   },
   {
    "duration": 25,
    "start_time": "2022-08-05T18:37:00.566Z"
   },
   {
    "duration": 33,
    "start_time": "2022-08-05T18:37:00.593Z"
   },
   {
    "duration": 34,
    "start_time": "2022-08-05T18:37:00.628Z"
   },
   {
    "duration": 29,
    "start_time": "2022-08-05T18:37:00.663Z"
   },
   {
    "duration": 52,
    "start_time": "2022-08-05T18:37:00.695Z"
   },
   {
    "duration": 34,
    "start_time": "2022-08-05T18:37:00.749Z"
   },
   {
    "duration": 19,
    "start_time": "2022-08-05T18:37:00.785Z"
   },
   {
    "duration": 21,
    "start_time": "2022-08-05T18:37:00.806Z"
   },
   {
    "duration": 14,
    "start_time": "2022-08-05T18:37:00.829Z"
   },
   {
    "duration": 12,
    "start_time": "2022-08-05T18:37:00.847Z"
   },
   {
    "duration": 34,
    "start_time": "2022-08-05T18:37:00.860Z"
   },
   {
    "duration": 12,
    "start_time": "2022-08-05T18:37:00.895Z"
   },
   {
    "duration": 13,
    "start_time": "2022-08-05T18:37:00.910Z"
   },
   {
    "duration": 37,
    "start_time": "2022-08-05T18:37:00.925Z"
   },
   {
    "duration": 28,
    "start_time": "2022-08-05T18:37:00.964Z"
   },
   {
    "duration": 23,
    "start_time": "2022-08-05T18:37:00.994Z"
   },
   {
    "duration": 35,
    "start_time": "2022-08-05T18:37:01.019Z"
   },
   {
    "duration": 25,
    "start_time": "2022-08-05T18:37:01.056Z"
   },
   {
    "duration": 16,
    "start_time": "2022-08-05T18:37:01.083Z"
   },
   {
    "duration": 32,
    "start_time": "2022-08-05T18:37:01.101Z"
   },
   {
    "duration": 28,
    "start_time": "2022-08-05T18:37:01.135Z"
   },
   {
    "duration": 48,
    "start_time": "2022-08-05T18:37:01.165Z"
   },
   {
    "duration": 24,
    "start_time": "2022-08-05T18:37:01.215Z"
   },
   {
    "duration": 34,
    "start_time": "2022-08-05T18:37:01.241Z"
   },
   {
    "duration": 39,
    "start_time": "2022-08-05T18:37:01.277Z"
   },
   {
    "duration": 14,
    "start_time": "2022-08-05T18:37:01.318Z"
   },
   {
    "duration": 105,
    "start_time": "2022-08-05T18:37:01.335Z"
   },
   {
    "duration": 32,
    "start_time": "2022-08-05T18:37:01.442Z"
   },
   {
    "duration": 28,
    "start_time": "2022-08-05T18:37:01.475Z"
   },
   {
    "duration": 355,
    "start_time": "2022-08-05T18:37:01.505Z"
   },
   {
    "duration": 296,
    "start_time": "2022-08-05T18:37:01.862Z"
   },
   {
    "duration": 13,
    "start_time": "2022-08-05T18:37:02.159Z"
   },
   {
    "duration": 8,
    "start_time": "2022-08-05T18:37:02.174Z"
   },
   {
    "duration": 18,
    "start_time": "2022-08-05T18:37:02.183Z"
   },
   {
    "duration": 413,
    "start_time": "2022-08-05T18:37:02.209Z"
   },
   {
    "duration": 379,
    "start_time": "2022-08-05T18:37:02.624Z"
   },
   {
    "duration": 6,
    "start_time": "2022-08-05T18:37:03.008Z"
   },
   {
    "duration": 26,
    "start_time": "2022-08-05T18:37:03.016Z"
   },
   {
    "duration": 12,
    "start_time": "2022-08-05T18:37:03.044Z"
   },
   {
    "duration": 16,
    "start_time": "2022-08-05T18:37:03.058Z"
   },
   {
    "duration": 10,
    "start_time": "2022-08-05T18:37:03.075Z"
   },
   {
    "duration": 10,
    "start_time": "2022-08-05T18:37:03.086Z"
   },
   {
    "duration": 138,
    "start_time": "2022-08-05T18:37:03.098Z"
   },
   {
    "duration": 337,
    "start_time": "2022-08-05T18:37:03.238Z"
   },
   {
    "duration": 6,
    "start_time": "2022-08-05T18:37:03.577Z"
   },
   {
    "duration": 155,
    "start_time": "2022-08-05T18:37:03.585Z"
   },
   {
    "duration": 5,
    "start_time": "2022-08-05T18:37:03.742Z"
   },
   {
    "duration": 143,
    "start_time": "2022-08-05T18:37:03.749Z"
   },
   {
    "duration": 15,
    "start_time": "2022-08-05T18:37:03.894Z"
   },
   {
    "duration": 257,
    "start_time": "2022-08-05T18:37:03.911Z"
   },
   {
    "duration": 1682,
    "start_time": "2022-08-05T18:37:04.170Z"
   },
   {
    "duration": 292,
    "start_time": "2022-08-05T18:37:05.853Z"
   },
   {
    "duration": 5,
    "start_time": "2022-08-05T18:37:06.147Z"
   },
   {
    "duration": 331,
    "start_time": "2022-08-05T18:37:06.153Z"
   },
   {
    "duration": 5,
    "start_time": "2022-08-05T18:37:06.486Z"
   },
   {
    "duration": 506,
    "start_time": "2022-08-05T18:37:06.492Z"
   },
   {
    "duration": 485,
    "start_time": "2022-08-05T18:37:07.000Z"
   },
   {
    "duration": 5,
    "start_time": "2022-08-05T18:37:07.487Z"
   },
   {
    "duration": 6,
    "start_time": "2022-08-05T18:37:07.493Z"
   },
   {
    "duration": 6,
    "start_time": "2022-08-05T18:37:07.509Z"
   },
   {
    "duration": 430,
    "start_time": "2022-08-05T18:37:07.516Z"
   },
   {
    "duration": 4,
    "start_time": "2022-08-05T18:37:07.948Z"
   },
   {
    "duration": 24,
    "start_time": "2022-08-05T18:37:07.953Z"
   },
   {
    "duration": 13,
    "start_time": "2022-08-05T18:37:07.979Z"
   },
   {
    "duration": 154,
    "start_time": "2022-08-05T18:37:07.993Z"
   },
   {
    "duration": 3,
    "start_time": "2022-08-05T18:37:08.149Z"
   },
   {
    "duration": 8,
    "start_time": "2022-08-05T18:37:08.154Z"
   },
   {
    "duration": 9,
    "start_time": "2022-08-05T18:37:08.164Z"
   },
   {
    "duration": 7,
    "start_time": "2022-08-05T18:37:08.174Z"
   },
   {
    "duration": 4,
    "start_time": "2022-08-05T18:37:08.183Z"
   },
   {
    "duration": 26,
    "start_time": "2022-08-05T18:37:08.189Z"
   },
   {
    "duration": 145,
    "start_time": "2022-08-05T18:37:08.217Z"
   },
   {
    "duration": 2,
    "start_time": "2022-08-05T18:37:08.364Z"
   },
   {
    "duration": 23,
    "start_time": "2022-08-05T18:37:08.367Z"
   },
   {
    "duration": 8,
    "start_time": "2022-08-05T18:37:08.392Z"
   },
   {
    "duration": 8,
    "start_time": "2022-08-05T18:37:08.402Z"
   }
  ],
  "kernelspec": {
   "display_name": "Python 3",
   "language": "python",
   "name": "python3"
  },
  "language_info": {
   "codemirror_mode": {
    "name": "ipython",
    "version": 3
   },
   "file_extension": ".py",
   "mimetype": "text/x-python",
   "name": "python",
   "nbconvert_exporter": "python",
   "pygments_lexer": "ipython3",
   "version": "3.8.8"
  },
  "toc": {
   "base_numbering": 1,
   "nav_menu": {
    "height": "74.9769px",
    "width": "227.431px"
   },
   "number_sections": true,
   "sideBar": true,
   "skip_h1_title": true,
   "title_cell": "Table of Contents",
   "title_sidebar": "Contents",
   "toc_cell": true,
   "toc_position": {
    "height": "401.323px",
    "left": "45px",
    "top": "111.125px",
    "width": "332px"
   },
   "toc_section_display": true,
   "toc_window_display": true
  }
 },
 "nbformat": 4,
 "nbformat_minor": 5
}
